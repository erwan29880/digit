{
 "cells": [
  {
   "cell_type": "code",
   "execution_count": 18,
   "id": "9d5765b3",
   "metadata": {},
   "outputs": [],
   "source": [
    "from joblib import load\n",
    "import sounddevice as sd #sinon pip install sounddevice\n",
    "import time #sinon pip install python-time\n",
    "import scipy.io.wavfile as wav\n",
    "from python_speech_features import mfcc #sinon pip install python_speech_features==0.4\n",
    "import wave\n",
    "import numpy as np\n",
    "import pandas as pd\n",
    "import os"
   ]
  },
  {
   "cell_type": "code",
   "execution_count": 22,
   "id": "48ae59e6",
   "metadata": {},
   "outputs": [],
   "source": [
    "def rec(classifier):\n",
    "\n",
    "    print(\"Attention, l'enregistrement commence dans :\")\n",
    "    \n",
    "    for i in range(0,2):\n",
    "        time.sleep(1)\n",
    "        print(1-i)\n",
    "    \n",
    "    time.sleep(1)\n",
    "    \n",
    "    rate = 48000\n",
    "    duration = 1\n",
    "           \n",
    "    \n",
    "\n",
    "    print(\"Prononcer votre Digit : \")\n",
    "    data = sd.rec(int(duration * rate), samplerate=rate, channels=1)\n",
    "    sd.wait()\n",
    "    time.sleep(1)    \n",
    "    data = data / data.max() * np.iinfo(np.int16).max\n",
    "    data = data.astype(np.int16)\n",
    "    \n",
    "    mfcc_feat = np.mean(mfcc(data,rate, numcep=12), axis=0)   \n",
    "    mfcc_feat = np.expand_dims(mfcc_feat, axis=0)\n",
    "    df = pd.DataFrame(mfcc_feat)\n",
    "    \n",
    "    pred = classifier.predict(mfcc_feat)\n",
    "    \n",
    "    \n",
    "    print('------------------')\n",
    "    print('Digit : ', pred[0])\n",
    "    print('------------------')"
   ]
  },
  {
   "cell_type": "code",
   "execution_count": 26,
   "id": "98248505",
   "metadata": {},
   "outputs": [],
   "source": [
    "# import des modèles\n",
    "\n",
    "# MLPClassifier\n",
    "clf = load('mlp.joblib')\n",
    "clf = load('xgb.joblib')\n",
    "clf = load('svm.joblib')"
   ]
  },
  {
   "cell_type": "code",
   "execution_count": 25,
   "id": "3c4754fd",
   "metadata": {},
   "outputs": [
    {
     "name": "stdout",
     "output_type": "stream",
     "text": [
      "Attention, l'enregistrement commence dans :\n",
      "1\n",
      "0\n",
      "Prononcer votre Digit : \n",
      "------------------\n",
      "Digit :  9\n",
      "------------------\n"
     ]
    }
   ],
   "source": [
    "# exécuter la cellule pour tester le digit\n",
    "rec(clf)"
   ]
  }
 ],
 "metadata": {
  "kernelspec": {
   "display_name": "Python 3 (ipykernel)",
   "language": "python",
   "name": "python3"
  },
  "language_info": {
   "codemirror_mode": {
    "name": "ipython",
    "version": 3
   },
   "file_extension": ".py",
   "mimetype": "text/x-python",
   "name": "python",
   "nbconvert_exporter": "python",
   "pygments_lexer": "ipython3",
   "version": "3.9.7"
  }
 },
 "nbformat": 4,
 "nbformat_minor": 5
}
