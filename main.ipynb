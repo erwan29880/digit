{
 "cells": [
  {
   "cell_type": "code",
   "execution_count": 48,
   "id": "d92e3419",
   "metadata": {},
   "outputs": [],
   "source": [
    "import numpy as np\n",
    "import os\n",
    "import matplotlib.pyplot as plt\n",
    "import seaborn as sb\n",
    "sb.set_style(\"whitegrid\", {'axes.grid' : False})\n",
    "sb.set(font_scale = 2)\n",
    "import pandas as pd\n",
    "from sklearn.model_selection import train_test_split\n",
    "from sklearn.preprocessing import StandardScaler\n",
    "from sklearn.tree import DecisionTreeClassifier\n",
    "from sklearn.ensemble import RandomForestClassifier\n",
    "from sklearn.ensemble import GradientBoostingClassifier\n",
    "from sklearn.svm import SVC\n",
    "from sklearn.neural_network import MLPClassifier \n",
    "from Tools.tools import rec\n",
    "from Tools.tools import collection\n",
    "from sklearn.pipeline import make_pipeline\n",
    "from sklearn.neighbors import KNeighborsClassifier\n",
    "from sklearn.model_selection import GridSearchCV\n",
    "from sklearn.metrics import precision_score\n",
    "from xgboost import XGBClassifier\n",
    "from sklearn.metrics import confusion_matrix\n",
    "from sklearn.feature_selection import SelectKBest\n",
    "from joblib import dump\n",
    "from sklearn.neighbors import NeighborhoodComponentsAnalysis\n",
    "\n",
    "# simplement pour rendre le notebook plus présentable\n",
    "import warnings\n",
    "warnings.filterwarnings(\"ignore\")"
   ]
  },
  {
   "cell_type": "code",
   "execution_count": 2,
   "id": "5a2873c0",
   "metadata": {},
   "outputs": [],
   "source": [
    "# collection()"
   ]
  },
  {
   "cell_type": "markdown",
   "id": "61586ff4",
   "metadata": {},
   "source": [
    "#### 1. Importer votre DataSet"
   ]
  },
  {
   "cell_type": "code",
   "execution_count": 64,
   "id": "739a54fa",
   "metadata": {},
   "outputs": [],
   "source": [
    "df = pd.read_csv('./Dataset/'+os.listdir('./Dataset/')[0])"
   ]
  },
  {
   "cell_type": "code",
   "execution_count": 65,
   "id": "9c1c65fc",
   "metadata": {},
   "outputs": [
    {
     "data": {
      "text/plain": [
       "<AxesSubplot:>"
      ]
     },
     "execution_count": 65,
     "metadata": {},
     "output_type": "execute_result"
    },
    {
     "data": {
      "image/png": "[encoded data removed]",
      "text/plain": [
       "<Figure size 432x288 with 1 Axes>"
      ]
     },
     "metadata": {},
     "output_type": "display_data"
    }
   ],
   "source": [
    "# Répartition des données : \n",
    "# quelques canaux de fréquences présentent des outliers ; \n",
    "# sinon, la distrubution des données semble assez homogène et cohérente\n",
    "df.boxplot()"
   ]
  },
  {
   "cell_type": "code",
   "execution_count": 66,
   "id": "cd627f04",
   "metadata": {},
   "outputs": [
    {
     "data": {
      "text/html": [
       "<div>\n",
       "<style scoped>\n",
       "    .dataframe tbody tr th:only-of-type {\n",
       "        vertical-align: middle;\n",
       "    }\n",
       "\n",
       "    .dataframe tbody tr th {\n",
       "        vertical-align: top;\n",
       "    }\n",
       "\n",
       "    .dataframe thead th {\n",
       "        text-align: right;\n",
       "    }\n",
       "</style>\n",
       "<table border=\"1\" class=\"dataframe\">\n",
       "  <thead>\n",
       "    <tr style=\"text-align: right;\">\n",
       "      <th></th>\n",
       "      <th>Fe1</th>\n",
       "      <th>Fe2</th>\n",
       "      <th>Fe3</th>\n",
       "      <th>Fe4</th>\n",
       "      <th>Fe5</th>\n",
       "      <th>Fe6</th>\n",
       "      <th>Fe7</th>\n",
       "      <th>Fe8</th>\n",
       "      <th>Fe9</th>\n",
       "      <th>Fe10</th>\n",
       "      <th>Fe11</th>\n",
       "      <th>Fe12</th>\n",
       "      <th>Target</th>\n",
       "    </tr>\n",
       "  </thead>\n",
       "  <tbody>\n",
       "    <tr>\n",
       "      <th>0</th>\n",
       "      <td>14.274666</td>\n",
       "      <td>0.306604</td>\n",
       "      <td>-6.509358</td>\n",
       "      <td>25.684822</td>\n",
       "      <td>6.009788</td>\n",
       "      <td>8.236848</td>\n",
       "      <td>-4.603504</td>\n",
       "      <td>7.190116</td>\n",
       "      <td>-8.385201</td>\n",
       "      <td>8.234614</td>\n",
       "      <td>1.610211</td>\n",
       "      <td>0.485977</td>\n",
       "      <td>0.0</td>\n",
       "    </tr>\n",
       "    <tr>\n",
       "      <th>1</th>\n",
       "      <td>14.075767</td>\n",
       "      <td>-4.393329</td>\n",
       "      <td>-6.786652</td>\n",
       "      <td>15.713791</td>\n",
       "      <td>6.494777</td>\n",
       "      <td>8.307470</td>\n",
       "      <td>-0.646492</td>\n",
       "      <td>18.590163</td>\n",
       "      <td>-6.765775</td>\n",
       "      <td>10.011137</td>\n",
       "      <td>0.032082</td>\n",
       "      <td>1.595067</td>\n",
       "      <td>1.0</td>\n",
       "    </tr>\n",
       "    <tr>\n",
       "      <th>2</th>\n",
       "      <td>13.385394</td>\n",
       "      <td>-2.412716</td>\n",
       "      <td>-4.905458</td>\n",
       "      <td>18.909799</td>\n",
       "      <td>10.608101</td>\n",
       "      <td>11.484525</td>\n",
       "      <td>0.222476</td>\n",
       "      <td>10.676471</td>\n",
       "      <td>-9.668632</td>\n",
       "      <td>5.637295</td>\n",
       "      <td>-5.071390</td>\n",
       "      <td>0.665733</td>\n",
       "      <td>2.0</td>\n",
       "    </tr>\n",
       "    <tr>\n",
       "      <th>3</th>\n",
       "      <td>14.335635</td>\n",
       "      <td>-3.923458</td>\n",
       "      <td>-8.288954</td>\n",
       "      <td>21.251131</td>\n",
       "      <td>4.331520</td>\n",
       "      <td>2.935059</td>\n",
       "      <td>-5.941685</td>\n",
       "      <td>12.855108</td>\n",
       "      <td>-1.215089</td>\n",
       "      <td>11.138346</td>\n",
       "      <td>1.452981</td>\n",
       "      <td>1.936708</td>\n",
       "      <td>3.0</td>\n",
       "    </tr>\n",
       "    <tr>\n",
       "      <th>4</th>\n",
       "      <td>12.976791</td>\n",
       "      <td>-7.668485</td>\n",
       "      <td>-9.849166</td>\n",
       "      <td>13.470379</td>\n",
       "      <td>3.166024</td>\n",
       "      <td>7.288091</td>\n",
       "      <td>0.330541</td>\n",
       "      <td>18.057565</td>\n",
       "      <td>-6.420736</td>\n",
       "      <td>5.402359</td>\n",
       "      <td>-5.311179</td>\n",
       "      <td>6.554399</td>\n",
       "      <td>4.0</td>\n",
       "    </tr>\n",
       "  </tbody>\n",
       "</table>\n",
       "</div>"
      ],
      "text/plain": [
       "         Fe1       Fe2       Fe3        Fe4        Fe5        Fe6       Fe7  \\\n",
       "0  14.274666  0.306604 -6.509358  25.684822   6.009788   8.236848 -4.603504   \n",
       "1  14.075767 -4.393329 -6.786652  15.713791   6.494777   8.307470 -0.646492   \n",
       "2  13.385394 -2.412716 -4.905458  18.909799  10.608101  11.484525  0.222476   \n",
       "3  14.335635 -3.923458 -8.288954  21.251131   4.331520   2.935059 -5.941685   \n",
       "4  12.976791 -7.668485 -9.849166  13.470379   3.166024   7.288091  0.330541   \n",
       "\n",
       "         Fe8       Fe9       Fe10      Fe11      Fe12  Target  \n",
       "0   7.190116 -8.385201   8.234614  1.610211  0.485977     0.0  \n",
       "1  18.590163 -6.765775  10.011137  0.032082  1.595067     1.0  \n",
       "2  10.676471 -9.668632   5.637295 -5.071390  0.665733     2.0  \n",
       "3  12.855108 -1.215089  11.138346  1.452981  1.936708     3.0  \n",
       "4  18.057565 -6.420736   5.402359 -5.311179  6.554399     4.0  "
      ]
     },
     "execution_count": 66,
     "metadata": {},
     "output_type": "execute_result"
    }
   ],
   "source": [
    "df.head(5)"
   ]
  },
  {
   "cell_type": "code",
   "execution_count": 67,
   "id": "a1871d46",
   "metadata": {},
   "outputs": [],
   "source": [
    "# selon quelles données on veut sélectionner\n",
    "df = df.iloc[:240,:]"
   ]
  },
  {
   "cell_type": "markdown",
   "id": "0559465a",
   "metadata": {},
   "source": [
    "#### 2. Checker les variables quantitatives/qualitatives et les valeurs manquantes "
   ]
  },
  {
   "cell_type": "code",
   "execution_count": 68,
   "id": "5299b66f",
   "metadata": {},
   "outputs": [
    {
     "name": "stdout",
     "output_type": "stream",
     "text": [
      "<class 'pandas.core.frame.DataFrame'>\n",
      "RangeIndex: 240 entries, 0 to 239\n",
      "Data columns (total 13 columns):\n",
      " #   Column  Non-Null Count  Dtype  \n",
      "---  ------  --------------  -----  \n",
      " 0   Fe1     240 non-null    float64\n",
      " 1   Fe2     240 non-null    float64\n",
      " 2   Fe3     240 non-null    float64\n",
      " 3   Fe4     240 non-null    float64\n",
      " 4   Fe5     240 non-null    float64\n",
      " 5   Fe6     240 non-null    float64\n",
      " 6   Fe7     240 non-null    float64\n",
      " 7   Fe8     240 non-null    float64\n",
      " 8   Fe9     240 non-null    float64\n",
      " 9   Fe10    240 non-null    float64\n",
      " 10  Fe11    240 non-null    float64\n",
      " 11  Fe12    240 non-null    float64\n",
      " 12  Target  240 non-null    float64\n",
      "dtypes: float64(13)\n",
      "memory usage: 24.5 KB\n"
     ]
    }
   ],
   "source": [
    "df.info()"
   ]
  },
  {
   "cell_type": "code",
   "execution_count": 69,
   "id": "2d8f47b7",
   "metadata": {},
   "outputs": [
    {
     "data": {
      "text/html": [
       "<div>\n",
       "<style scoped>\n",
       "    .dataframe tbody tr th:only-of-type {\n",
       "        vertical-align: middle;\n",
       "    }\n",
       "\n",
       "    .dataframe tbody tr th {\n",
       "        vertical-align: top;\n",
       "    }\n",
       "\n",
       "    .dataframe thead th {\n",
       "        text-align: right;\n",
       "    }\n",
       "</style>\n",
       "<table border=\"1\" class=\"dataframe\">\n",
       "  <thead>\n",
       "    <tr style=\"text-align: right;\">\n",
       "      <th></th>\n",
       "      <th>Fe1</th>\n",
       "      <th>Fe2</th>\n",
       "      <th>Fe3</th>\n",
       "      <th>Fe4</th>\n",
       "      <th>Fe5</th>\n",
       "      <th>Fe6</th>\n",
       "      <th>Fe7</th>\n",
       "      <th>Fe8</th>\n",
       "      <th>Fe9</th>\n",
       "      <th>Fe10</th>\n",
       "      <th>Fe11</th>\n",
       "      <th>Fe12</th>\n",
       "      <th>Target</th>\n",
       "    </tr>\n",
       "  </thead>\n",
       "  <tbody>\n",
       "    <tr>\n",
       "      <th>count</th>\n",
       "      <td>240.000000</td>\n",
       "      <td>240.000000</td>\n",
       "      <td>240.000000</td>\n",
       "      <td>240.000000</td>\n",
       "      <td>240.000000</td>\n",
       "      <td>240.000000</td>\n",
       "      <td>240.000000</td>\n",
       "      <td>240.000000</td>\n",
       "      <td>240.000000</td>\n",
       "      <td>240.000000</td>\n",
       "      <td>240.000000</td>\n",
       "      <td>240.000000</td>\n",
       "      <td>240.000000</td>\n",
       "    </tr>\n",
       "    <tr>\n",
       "      <th>mean</th>\n",
       "      <td>13.683535</td>\n",
       "      <td>-8.878366</td>\n",
       "      <td>-4.335138</td>\n",
       "      <td>10.948307</td>\n",
       "      <td>5.447640</td>\n",
       "      <td>1.787946</td>\n",
       "      <td>1.501622</td>\n",
       "      <td>8.944707</td>\n",
       "      <td>-3.691344</td>\n",
       "      <td>3.724075</td>\n",
       "      <td>-1.714219</td>\n",
       "      <td>2.597333</td>\n",
       "      <td>4.500000</td>\n",
       "    </tr>\n",
       "    <tr>\n",
       "      <th>std</th>\n",
       "      <td>2.022207</td>\n",
       "      <td>6.850747</td>\n",
       "      <td>5.326926</td>\n",
       "      <td>11.513045</td>\n",
       "      <td>4.910310</td>\n",
       "      <td>7.317164</td>\n",
       "      <td>3.909253</td>\n",
       "      <td>6.069436</td>\n",
       "      <td>4.418470</td>\n",
       "      <td>5.220073</td>\n",
       "      <td>3.354142</td>\n",
       "      <td>4.864075</td>\n",
       "      <td>2.878284</td>\n",
       "    </tr>\n",
       "    <tr>\n",
       "      <th>min</th>\n",
       "      <td>8.842483</td>\n",
       "      <td>-25.436624</td>\n",
       "      <td>-20.527578</td>\n",
       "      <td>-12.011691</td>\n",
       "      <td>-5.674680</td>\n",
       "      <td>-14.815182</td>\n",
       "      <td>-8.961207</td>\n",
       "      <td>-2.963330</td>\n",
       "      <td>-12.693762</td>\n",
       "      <td>-12.088923</td>\n",
       "      <td>-9.045685</td>\n",
       "      <td>-7.384700</td>\n",
       "      <td>0.000000</td>\n",
       "    </tr>\n",
       "    <tr>\n",
       "      <th>25%</th>\n",
       "      <td>12.546998</td>\n",
       "      <td>-13.869839</td>\n",
       "      <td>-8.135140</td>\n",
       "      <td>5.030797</td>\n",
       "      <td>2.111081</td>\n",
       "      <td>-3.702227</td>\n",
       "      <td>-1.171787</td>\n",
       "      <td>3.187526</td>\n",
       "      <td>-7.105619</td>\n",
       "      <td>1.316984</td>\n",
       "      <td>-3.978948</td>\n",
       "      <td>-2.257805</td>\n",
       "      <td>2.000000</td>\n",
       "    </tr>\n",
       "    <tr>\n",
       "      <th>50%</th>\n",
       "      <td>14.286857</td>\n",
       "      <td>-8.529057</td>\n",
       "      <td>-4.528609</td>\n",
       "      <td>14.870082</td>\n",
       "      <td>5.445509</td>\n",
       "      <td>3.548352</td>\n",
       "      <td>1.302102</td>\n",
       "      <td>9.875965</td>\n",
       "      <td>-3.574004</td>\n",
       "      <td>4.907490</td>\n",
       "      <td>-2.015357</td>\n",
       "      <td>3.206734</td>\n",
       "      <td>4.500000</td>\n",
       "    </tr>\n",
       "    <tr>\n",
       "      <th>75%</th>\n",
       "      <td>15.074981</td>\n",
       "      <td>-3.298852</td>\n",
       "      <td>-0.234071</td>\n",
       "      <td>18.117316</td>\n",
       "      <td>8.509464</td>\n",
       "      <td>7.555845</td>\n",
       "      <td>4.534564</td>\n",
       "      <td>14.065763</td>\n",
       "      <td>-0.315647</td>\n",
       "      <td>7.076912</td>\n",
       "      <td>0.417736</td>\n",
       "      <td>6.795034</td>\n",
       "      <td>7.000000</td>\n",
       "    </tr>\n",
       "    <tr>\n",
       "      <th>max</th>\n",
       "      <td>17.601392</td>\n",
       "      <td>4.205647</td>\n",
       "      <td>8.269975</td>\n",
       "      <td>35.322183</td>\n",
       "      <td>19.739664</td>\n",
       "      <td>15.076510</td>\n",
       "      <td>9.627911</td>\n",
       "      <td>21.738983</td>\n",
       "      <td>8.152678</td>\n",
       "      <td>15.096898</td>\n",
       "      <td>10.107870</td>\n",
       "      <td>11.608511</td>\n",
       "      <td>9.000000</td>\n",
       "    </tr>\n",
       "  </tbody>\n",
       "</table>\n",
       "</div>"
      ],
      "text/plain": [
       "              Fe1         Fe2         Fe3         Fe4         Fe5         Fe6  \\\n",
       "count  240.000000  240.000000  240.000000  240.000000  240.000000  240.000000   \n",
       "mean    13.683535   -8.878366   -4.335138   10.948307    5.447640    1.787946   \n",
       "std      2.022207    6.850747    5.326926   11.513045    4.910310    7.317164   \n",
       "min      8.842483  -25.436624  -20.527578  -12.011691   -5.674680  -14.815182   \n",
       "25%     12.546998  -13.869839   -8.135140    5.030797    2.111081   -3.702227   \n",
       "50%     14.286857   -8.529057   -4.528609   14.870082    5.445509    3.548352   \n",
       "75%     15.074981   -3.298852   -0.234071   18.117316    8.509464    7.555845   \n",
       "max     17.601392    4.205647    8.269975   35.322183   19.739664   15.076510   \n",
       "\n",
       "              Fe7         Fe8         Fe9        Fe10        Fe11        Fe12  \\\n",
       "count  240.000000  240.000000  240.000000  240.000000  240.000000  240.000000   \n",
       "mean     1.501622    8.944707   -3.691344    3.724075   -1.714219    2.597333   \n",
       "std      3.909253    6.069436    4.418470    5.220073    3.354142    4.864075   \n",
       "min     -8.961207   -2.963330  -12.693762  -12.088923   -9.045685   -7.384700   \n",
       "25%     -1.171787    3.187526   -7.105619    1.316984   -3.978948   -2.257805   \n",
       "50%      1.302102    9.875965   -3.574004    4.907490   -2.015357    3.206734   \n",
       "75%      4.534564   14.065763   -0.315647    7.076912    0.417736    6.795034   \n",
       "max      9.627911   21.738983    8.152678   15.096898   10.107870   11.608511   \n",
       "\n",
       "           Target  \n",
       "count  240.000000  \n",
       "mean     4.500000  \n",
       "std      2.878284  \n",
       "min      0.000000  \n",
       "25%      2.000000  \n",
       "50%      4.500000  \n",
       "75%      7.000000  \n",
       "max      9.000000  "
      ]
     },
     "execution_count": 69,
     "metadata": {},
     "output_type": "execute_result"
    }
   ],
   "source": [
    "df.describe()"
   ]
  },
  {
   "cell_type": "markdown",
   "id": "df178c77",
   "metadata": {},
   "source": [
    "### Test de corrélation : sélection des variables les plus corrélées dans un DF X1"
   ]
  },
  {
   "cell_type": "code",
   "execution_count": 70,
   "id": "174a3204",
   "metadata": {},
   "outputs": [
    {
     "data": {
      "text/plain": [
       "Target    1.000000\n",
       "Fe3       0.348380\n",
       "Fe7       0.266249\n",
       "Fe12      0.202283\n",
       "Fe10      0.187193\n",
       "Fe1       0.169734\n",
       "Fe11      0.156335\n",
       "Fe2       0.156239\n",
       "Fe6       0.127618\n",
       "Fe9       0.124911\n",
       "Fe5       0.107799\n",
       "Fe4       0.072400\n",
       "Fe8       0.026859\n",
       "dtype: float64"
      ]
     },
     "execution_count": 70,
     "metadata": {},
     "output_type": "execute_result"
    }
   ],
   "source": [
    "df.corrwith(df['Target'], method='pearson').abs().sort_values(ascending=False)\n",
    "\n",
    "# X1 = df.drop(['Fe8', 'Fe11', 'Fe5', 'Fe4', 'Fe10', 'Fe9', 'Fe12', 'Target'], axis=1)"
   ]
  },
  {
   "cell_type": "markdown",
   "id": "8f174e26",
   "metadata": {},
   "source": [
    "### Notre variable target (Y) est 'gender', Récuprer X et y à partir du jeu de données "
   ]
  },
  {
   "cell_type": "code",
   "execution_count": 71,
   "id": "0a59cb01",
   "metadata": {},
   "outputs": [],
   "source": [
    "y = df['Target']\n",
    "y = y.astype(int)\n",
    "X = df.iloc[:,:-1]"
   ]
  },
  {
   "cell_type": "markdown",
   "id": "20277950",
   "metadata": {},
   "source": [
    "#### 4. Diviser la DataSet en donneés d'apprentissage et de test (20% pour le test)"
   ]
  },
  {
   "cell_type": "code",
   "execution_count": 72,
   "id": "5a73403f",
   "metadata": {},
   "outputs": [],
   "source": [
    "X_train, X_test, y_train, y_test = train_test_split(X, y, test_size=0.2, random_state=34)"
   ]
  },
  {
   "cell_type": "code",
   "execution_count": 73,
   "id": "cd844829",
   "metadata": {},
   "outputs": [
    {
     "data": {
      "text/plain": [
       "8    22\n",
       "6    22\n",
       "1    21\n",
       "9    20\n",
       "5    20\n",
       "7    19\n",
       "2    19\n",
       "4    17\n",
       "3    16\n",
       "0    16\n",
       "Name: Target, dtype: int64"
      ]
     },
     "execution_count": 73,
     "metadata": {},
     "output_type": "execute_result"
    }
   ],
   "source": [
    "# vérification de la répartition des valeurs pour la cible (train)\n",
    "y_train.value_counts()"
   ]
  },
  {
   "cell_type": "code",
   "execution_count": 74,
   "id": "ef69b56f",
   "metadata": {},
   "outputs": [
    {
     "data": {
      "text/plain": [
       "3    8\n",
       "0    8\n",
       "4    7\n",
       "7    5\n",
       "2    5\n",
       "9    4\n",
       "5    4\n",
       "1    3\n",
       "8    2\n",
       "6    2\n",
       "Name: Target, dtype: int64"
      ]
     },
     "execution_count": 74,
     "metadata": {},
     "output_type": "execute_result"
    }
   ],
   "source": [
    "# vérification de la répartition des valeurs pour la cible (test)\n",
    "y_test.value_counts()"
   ]
  },
  {
   "cell_type": "code",
   "execution_count": 75,
   "id": "f5140940",
   "metadata": {},
   "outputs": [
    {
     "data": {
      "text/plain": [
       "(192, 12)"
      ]
     },
     "execution_count": 75,
     "metadata": {},
     "output_type": "execute_result"
    }
   ],
   "source": [
    "# vérification du nombre de données\n",
    "X_train.shape"
   ]
  },
  {
   "cell_type": "markdown",
   "id": "9c0f82a8",
   "metadata": {},
   "source": [
    "## 6. Développer votre meilleur modèle de classification"
   ]
  },
  {
   "cell_type": "code",
   "execution_count": 76,
   "id": "3c52e82b",
   "metadata": {},
   "outputs": [],
   "source": [
    "resultats = dict()"
   ]
  },
  {
   "cell_type": "markdown",
   "id": "1729f360",
   "metadata": {},
   "source": [
    "### DecisionTreeClassifier"
   ]
  },
  {
   "cell_type": "code",
   "execution_count": 77,
   "id": "f889430f",
   "metadata": {},
   "outputs": [
    {
     "name": "stdout",
     "output_type": "stream",
     "text": [
      "meilleur score (train) : 1.0\n",
      "meilleur score (test) : 0.6458333333333334\n",
      "meilleurs paramètres : {'decisiontreeclassifier__criterion': 'entropy', 'neighborhoodcomponentsanalysis__n_components': 9, 'selectkbest__k': 8}\n"
     ]
    },
    {
     "data": {
      "text/plain": [
       "<AxesSubplot:>"
      ]
     },
     "execution_count": 77,
     "metadata": {},
     "output_type": "execute_result"
    },
    {
     "data": {
      "image/png": "[encoded data removed]",
      "text/plain": [
       "<Figure size 432x288 with 2 Axes>"
      ]
     },
     "metadata": {},
     "output_type": "display_data"
    }
   ],
   "source": [
    "# créer le pipeline\n",
    "pipe1 = make_pipeline(NeighborhoodComponentsAnalysis(), \n",
    "                      SelectKBest(),\n",
    "                      DecisionTreeClassifier())\n",
    "\n",
    "\n",
    "# dictionnaires de paramètres pour l'estimateur\n",
    "parametres = {\n",
    "    'decisiontreeclassifier__criterion' : ['gini', 'entropy'],\n",
    "    'selectkbest__k' : [8,9,10],\n",
    "    'neighborhoodcomponentsanalysis__n_components' : [ x for x in range(6, 12)]\n",
    "}\n",
    "\n",
    "\n",
    "\n",
    "# créer la grille de recherche ; entrainement des données\n",
    "mod = GridSearchCV(pipe1, param_grid=parametres, cv=2, scoring='accuracy')\n",
    "mod.fit(X_train, y_train)\n",
    "y_pred = mod.predict(X_test)\n",
    "\n",
    "\n",
    "# les scores\n",
    "strain = mod.score(X_train, y_train)\n",
    "stest = mod.score(X_test, y_test)\n",
    "\n",
    "resultats['Decision Tree'] = [strain, stest]\n",
    "\n",
    "print(f'meilleur score (train) : {strain}')\n",
    "print(f'meilleur score (test) : {stest}')\n",
    "print(f'meilleurs paramètres : {mod.best_params_}')\n",
    "sb.heatmap(confusion_matrix(y_test, y_pred), annot=True)"
   ]
  },
  {
   "cell_type": "markdown",
   "id": "83c933b5",
   "metadata": {},
   "source": [
    "### RandomForestClassifier"
   ]
  },
  {
   "cell_type": "code",
   "execution_count": 78,
   "id": "97479949",
   "metadata": {},
   "outputs": [
    {
     "name": "stdout",
     "output_type": "stream",
     "text": [
      "meilleur score : 1.0\n",
      "meilleur score : 0.7083333333333334\n",
      "meilleurs paramètres : {'neighborhoodcomponentsanalysis__n_components': 7, 'randomforestclassifier__bootstrap': True, 'randomforestclassifier__criterion': 'gini', 'randomforestclassifier__n_estimators': 300}\n"
     ]
    },
    {
     "data": {
      "text/plain": [
       "<AxesSubplot:>"
      ]
     },
     "execution_count": 78,
     "metadata": {},
     "output_type": "execute_result"
    },
    {
     "data": {
      "image/png": "[encoded data removed]",
      "text/plain": [
       "<Figure size 432x288 with 2 Axes>"
      ]
     },
     "metadata": {},
     "output_type": "display_data"
    }
   ],
   "source": [
    "# créer le pipeline\n",
    "pipe1 = make_pipeline(NeighborhoodComponentsAnalysis(), \n",
    "                      RandomForestClassifier())\n",
    "\n",
    "\n",
    "# dictionnaires de paramètres pour l'estimateur\n",
    "parametres = {\n",
    "    'randomforestclassifier__n_estimators' : [100, 200, 300],\n",
    "    'randomforestclassifier__bootstrap' : [False, True],\n",
    "    'randomforestclassifier__criterion' : ['gini', 'entropy'],\n",
    "    'neighborhoodcomponentsanalysis__n_components' : [ x for x in range(2, 12)]\n",
    "}\n",
    "\n",
    "\n",
    "\n",
    "\n",
    "# créer la grille de recherche ; entrainement des données\n",
    "mod = GridSearchCV(pipe1, param_grid=parametres, cv=3, scoring='accuracy')\n",
    "mod.fit(X_train, y_train)\n",
    "y_pred = mod.predict(X_test)\n",
    "\n",
    "# les scores\n",
    "strain = mod.score(X_train, y_train)\n",
    "stest = mod.score(X_test, y_test)\n",
    "\n",
    "resultats['Random Forest'] = [strain, stest]\n",
    "\n",
    "print(f'meilleur score : {strain}')\n",
    "print(f'meilleur score : {stest}')\n",
    "print(f'meilleurs paramètres : {mod.best_params_}')\n",
    "sb.heatmap(confusion_matrix(y_test, y_pred), annot=True)"
   ]
  },
  {
   "cell_type": "markdown",
   "id": "f6d05d60",
   "metadata": {},
   "source": [
    "### MLPClassifier"
   ]
  },
  {
   "cell_type": "code",
   "execution_count": 82,
   "id": "9aa5b144",
   "metadata": {},
   "outputs": [
    {
     "name": "stdout",
     "output_type": "stream",
     "text": [
      "meilleur score : 1.0\n",
      "meilleur score : 0.75\n",
      "meilleurs paramètres : {'mlpclassifier__learning_rate_init': 0.005, 'mlpclassifier__max_iter': 5000, 'mlpclassifier__random_state': 50, 'mlpclassifier__warm_start': False, 'neighborhoodcomponentsanalysis__n_components': 10}\n"
     ]
    },
    {
     "data": {
      "text/plain": [
       "['mlp.joblib']"
      ]
     },
     "execution_count": 82,
     "metadata": {},
     "output_type": "execute_result"
    },
    {
     "data": {
      "image/png": "[encoded data removed]",
      "text/plain": [
       "<Figure size 432x288 with 2 Axes>"
      ]
     },
     "metadata": {},
     "output_type": "display_data"
    }
   ],
   "source": [
    "pipe1 = make_pipeline(StandardScaler(),\n",
    "                      NeighborhoodComponentsAnalysis(), \n",
    "#                       SelectKBest(),\n",
    "                      MLPClassifier())\n",
    "\n",
    "\n",
    "# dictionnaires de paramètres pour l'estimateur\n",
    "parametres = {\n",
    "    'mlpclassifier__max_iter' : [5000, 10000],\n",
    "    'mlpclassifier__learning_rate_init' : [0.005, 0.007, 0.002],\n",
    "    'mlpclassifier__warm_start' : [False, True],\n",
    "    'mlpclassifier__random_state' : [50],\n",
    "#     'selectkbest__k' : [8,9,10],\n",
    "    'neighborhoodcomponentsanalysis__n_components' : [10]\n",
    "}\n",
    "\n",
    "\n",
    "# créer la grille de recherche ; entrainement des données\n",
    "mod = GridSearchCV(pipe1, param_grid=parametres, cv=5, scoring='accuracy')\n",
    "mod.fit(X_train, y_train)\n",
    "y_pred = mod.predict(X_test)\n",
    "\n",
    "# les scores\n",
    "strain = mod.score(X_train, y_train)\n",
    "stest = mod.score(X_test, y_test)\n",
    "\n",
    "resultats['MLP classifier'] = [strain, stest]\n",
    "\n",
    "print(f'meilleur score : {strain}')\n",
    "print(f'meilleur score : {stest}')\n",
    "print(f'meilleurs paramètres : {mod.best_params_}')\n",
    "sb.heatmap(confusion_matrix(y_test, y_pred), annot=True)\n",
    "\n",
    "dump(mod, 'mlp.joblib')"
   ]
  },
  {
   "cell_type": "markdown",
   "id": "2d90c70c",
   "metadata": {},
   "source": [
    "### KNeighborsClassifier"
   ]
  },
  {
   "cell_type": "code",
   "execution_count": 94,
   "id": "e6e93e59",
   "metadata": {},
   "outputs": [
    {
     "name": "stdout",
     "output_type": "stream",
     "text": [
      "meilleur score : 1.0\n",
      "meilleur score : 0.6041666666666666\n",
      "meilleurs paramètres : {'kneighborsclassifier__algorithm': 'brute', 'kneighborsclassifier__metric': 'minkowski', 'kneighborsclassifier__n_neighbors': 3, 'kneighborsclassifier__weights': 'distance', 'selectkbest__k': 10}\n"
     ]
    },
    {
     "data": {
      "text/plain": [
       "['knn.joblib']"
      ]
     },
     "execution_count": 94,
     "metadata": {},
     "output_type": "execute_result"
    },
    {
     "data": {
      "image/png": "[encoded data removed]",
      "text/plain": [
       "<Figure size 432x288 with 2 Axes>"
      ]
     },
     "metadata": {},
     "output_type": "display_data"
    }
   ],
   "source": [
    "pipe1 = make_pipeline(StandardScaler(),SelectKBest(),\n",
    "                      KNeighborsClassifier())\n",
    "\n",
    "\n",
    "# dictionnaires de paramètres pour l'estimateur\n",
    "parametres = {\n",
    "    'kneighborsclassifier__n_neighbors' : [x for x in range(1, 20)],\n",
    "    'kneighborsclassifier__weights' : ['uniform', 'distance'],\n",
    "    'kneighborsclassifier__algorithm' : ['brute', 'kd_tree', 'ball_tree'],\n",
    "    'kneighborsclassifier__metric' : ['minkowski', 'manhattan', 'euclidean'], \n",
    "    'selectkbest__k' : [8,9,10],\n",
    "#     'neighborhoodcomponentsanalysis__n_components' : [ x for x in range(6, 12)]\n",
    "}\n",
    "\n",
    "\n",
    "\n",
    "# créer la grille de recherche ; entrainement des données\n",
    "mod = GridSearchCV(pipe1, param_grid=parametres, cv=5, scoring='accuracy')\n",
    "mod.fit(X_train, y_train)\n",
    "y_pred = mod.predict(X_test)\n",
    "\n",
    "# les scores\n",
    "strain = mod.score(X_train, y_train)\n",
    "stest = mod.score(X_test, y_test)\n",
    "\n",
    "resultats['KNN'] = [strain, stest]\n",
    "\n",
    "print(f'meilleur score : {strain}')\n",
    "print(f'meilleur score : {stest}')\n",
    "print(f'meilleurs paramètres : {mod.best_params_}')\n",
    "sb.heatmap(confusion_matrix(y_test, y_pred), annot=True)\n",
    "dump(mod, 'knn.joblib')"
   ]
  },
  {
   "cell_type": "markdown",
   "id": "87030219",
   "metadata": {},
   "source": [
    "### XGBClassifier"
   ]
  },
  {
   "cell_type": "code",
   "execution_count": 86,
   "id": "af7fbf36",
   "metadata": {},
   "outputs": [
    {
     "name": "stdout",
     "output_type": "stream",
     "text": [
      "meilleur score : 0.8177083333333334\n",
      "meilleur score : 0.7291666666666666\n",
      "meilleurs paramètres : {'neighborhoodcomponentsanalysis__n_components': 10, 'selectkbest__k': 10, 'xgbclassifier__booster': 'gblinear'}\n"
     ]
    },
    {
     "data": {
      "text/plain": [
       "['xgb.joblib']"
      ]
     },
     "execution_count": 86,
     "metadata": {},
     "output_type": "execute_result"
    },
    {
     "data": {
      "image/png": "[encoded data removed]",
      "text/plain": [
       "<Figure size 432x288 with 2 Axes>"
      ]
     },
     "metadata": {},
     "output_type": "display_data"
    }
   ],
   "source": [
    "pipe1 = make_pipeline(NeighborhoodComponentsAnalysis(), \n",
    "                      SelectKBest(),\n",
    "                      XGBClassifier())\n",
    "\n",
    "\n",
    "# dictionnaires de paramètres pour l'estimateur\n",
    "parametres = {\n",
    "    'xgbclassifier__booster' : ['gbtree', 'gblinear','dart'], \n",
    "    'selectkbest__k' : [8,9,10],\n",
    "    'neighborhoodcomponentsanalysis__n_components' : [ x for x in range(6, 12)]\n",
    "}\n",
    "\n",
    "\n",
    "# créer la grille de recherche ; entrainement des données\n",
    "mod = GridSearchCV(pipe1, param_grid=parametres, cv=5, scoring='accuracy')\n",
    "mod.fit(X_train, y_train)\n",
    "y_pred = mod.predict(X_test)\n",
    "\n",
    "# les scores\n",
    "strain = mod.score(X_train, y_train)\n",
    "stest = mod.score(X_test, y_test)\n",
    "\n",
    "resultats['XGB classifier'] = [strain, stest]\n",
    "\n",
    "print(f'meilleur score : {strain}')\n",
    "print(f'meilleur score : {stest}')\n",
    "print(f'meilleurs paramètres : {mod.best_params_}')\n",
    "sb.heatmap(confusion_matrix(y_test, y_pred), annot=True)\n",
    "dump(mod, 'xgb.joblib')"
   ]
  },
  {
   "cell_type": "markdown",
   "id": "c384db25",
   "metadata": {},
   "source": [
    "### SVM"
   ]
  },
  {
   "cell_type": "code",
   "execution_count": 91,
   "id": "64a77417",
   "metadata": {},
   "outputs": [
    {
     "name": "stdout",
     "output_type": "stream",
     "text": [
      "meilleur score : 0.921875\n",
      "meilleur score : 0.8125\n",
      "meilleurs paramètres : {'neighborhoodcomponentsanalysis__n_components': 11, 'selectkbest__k': 10, 'svc__C': 10, 'svc__gamma': 'scale', 'svc__kernel': 'rbf', 'svc__max_iter': 100}\n"
     ]
    },
    {
     "data": {
      "text/plain": [
       "['svm.joblib']"
      ]
     },
     "execution_count": 91,
     "metadata": {},
     "output_type": "execute_result"
    },
    {
     "data": {
      "image/png": "[encoded data removed]",
      "text/plain": [
       "<Figure size 432x288 with 2 Axes>"
      ]
     },
     "metadata": {},
     "output_type": "display_data"
    }
   ],
   "source": [
    "pipe1 = make_pipeline(NeighborhoodComponentsAnalysis(), \n",
    "                      SelectKBest(),\n",
    "                      SVC())\n",
    "\n",
    "\n",
    "# dictionnaires de paramètres pour l'estimateur\n",
    "parametres = {\n",
    "    'svc__kernel' : ['rbf', 'poly','sigmoid' ],\n",
    "    'svc__gamma' : ['auto', 'scale'],\n",
    "    'svc__max_iter' : [20, 100],\n",
    "    'svc__C' : [0.01, 0.1, 1, 10 ],\n",
    "    'selectkbest__k' : [8,9,10],\n",
    "    'neighborhoodcomponentsanalysis__n_components' : [ 11]\n",
    "}\n",
    "\n",
    "\n",
    "\n",
    "# créer la grille de recherche ; entrainement des données\n",
    "mod = GridSearchCV(pipe1, param_grid=parametres, cv=5, scoring='accuracy')\n",
    "mod.fit(X_train, y_train)\n",
    "y_pred = mod.predict(X_test)\n",
    "\n",
    "# les scores\n",
    "strain = mod.score(X_train, y_train)\n",
    "stest = mod.score(X_test, y_test)\n",
    "\n",
    "resultats['SVC'] = [strain, stest]\n",
    "\n",
    "print(f'meilleur score : {strain}')\n",
    "print(f'meilleur score : {stest}')\n",
    "print(f'meilleurs paramètres : {mod.best_params_}')\n",
    "sb.heatmap(confusion_matrix(y_test, y_pred), annot=True)\n",
    "dump(mod, 'svm.joblib')"
   ]
  },
  {
   "cell_type": "code",
   "execution_count": 95,
   "id": "94007f68",
   "metadata": {},
   "outputs": [
    {
     "name": "stdout",
     "output_type": "stream",
     "text": [
      "Decision Tree\n",
      "--Résultat du Train : 1.0\n",
      "--Résultat du Test : 0.6458333333333334\n",
      "Random Forest\n",
      "--Résultat du Train : 1.0\n",
      "--Résultat du Test : 0.7083333333333334\n",
      "MLP classifier\n",
      "--Résultat du Train : 1.0\n",
      "--Résultat du Test : 0.75\n",
      "XGB classifier\n",
      "--Résultat du Train : 0.8177083333333334\n",
      "--Résultat du Test : 0.7291666666666666\n",
      "SVC\n",
      "--Résultat du Train : 0.921875\n",
      "--Résultat du Test : 0.8125\n",
      "KNN\n",
      "--Résultat du Train : 1.0\n",
      "--Résultat du Test : 0.6041666666666666\n"
     ]
    }
   ],
   "source": [
    "resultats\n",
    "for i,j in resultats.items():\n",
    "    print(i)\n",
    "    print(f'--Résultat du Train : {j[0]}')\n",
    "    print(f'--Résultat du Test : {j[1]}')\n",
    "    \n",
    "    \n",
    "    "
   ]
  },
  {
   "cell_type": "markdown",
   "id": "df84da6c",
   "metadata": {},
   "source": [
    "# Essai dans un programme"
   ]
  },
  {
   "cell_type": "code",
   "execution_count": 12,
   "id": "4bf9fba7",
   "metadata": {},
   "outputs": [
    {
     "data": {
      "text/plain": [
       "MLPClassifier(learning_rate_init=0.002, max_iter=5000, random_state=50)"
      ]
     },
     "execution_count": 12,
     "metadata": {},
     "output_type": "execute_result"
    }
   ],
   "source": [
    "# Instanciation de l'objet de standardisation\n",
    "scaler = StandardScaler().fit(X)\n",
    "X_fit = scaler.transform(X)\n",
    "\n",
    "# Création du modèle :\n",
    "clf = MLPClassifier(learning_rate_init=0.002, max_iter=5000, random_state=50, warm_start= False )\n",
    "clf.fit(X, y)"
   ]
  },
  {
   "cell_type": "code",
   "execution_count": 11,
   "id": "c2b435b7",
   "metadata": {},
   "outputs": [
    {
     "data": {
      "text/plain": [
       "MLPClassifier(learning_rate_init=0.005, max_iter=5000, random_state=50)"
      ]
     },
     "execution_count": 11,
     "metadata": {},
     "output_type": "execute_result"
    }
   ],
   "source": [
    "# learning_rate_init=0.005,max_iter=5000,random_state=50,warm_start=False}\n",
    "scaler = StandardScaler().fit(X)\n",
    "X_fit = scaler.transform(X)\n",
    "mlp = MLPClassifier(learning_rate_init=0.005, max_iter=5000, random_state=50, warm_start= False )\n",
    "mlp.fit(X, y)\n"
   ]
  },
  {
   "cell_type": "code",
   "execution_count": 25,
   "id": "57138957",
   "metadata": {},
   "outputs": [
    {
     "name": "stdout",
     "output_type": "stream",
     "text": [
      "Attention, l'enregistrement commence dans :\n",
      "1\n",
      "0\n",
      "Prononcer votre Digit : \n",
      "------------------\n",
      "Digit :  4\n",
      "------------------\n"
     ]
    }
   ],
   "source": [
    "import sounddevice as sd #sinon pip install sounddevice\n",
    "import time #sinon pip install python-time\n",
    "import scipy.io.wavfile as wav\n",
    "from python_speech_features import mfcc #sinon pip install python_speech_features==0.4\n",
    "import wave\n",
    "import os\n",
    "\n",
    "def rec(scaler, classifier, method):\n",
    "\n",
    "    print(\"Attention, l'enregistrement commence dans :\")\n",
    "    \n",
    "    for i in range(0,2):\n",
    "        time.sleep(1)\n",
    "        print(1-i)\n",
    "    \n",
    "    time.sleep(1)\n",
    "    \n",
    "    rate = 48000\n",
    "    duration = 1\n",
    "           \n",
    "    \n",
    "\n",
    "    print(\"Prononcer votre Digit : \")\n",
    "    data = sd.rec(int(duration * rate), samplerate=rate, channels=1)\n",
    "    sd.wait()\n",
    "    time.sleep(1)    \n",
    "    data = data / data.max() * np.iinfo(np.int16).max\n",
    "    data = data.astype(np.int16)\n",
    "    \n",
    "    mfcc_feat = np.mean(mfcc(data,rate, numcep=12), axis=0)   \n",
    "    mfcc_feat = np.expand_dims(mfcc_feat, axis=0)\n",
    "    df = pd.DataFrame(mfcc_feat)\n",
    "    \n",
    "\n",
    "    if method=='pearson':\n",
    "        df = pd.DataFrame(mfcc_feat, columns=['Fe1', 'Fe2', 'Fe3', 'Fe4', 'Fe5', 'Fe6', 'Fe7', 'Fe8', 'Fe9', 'Fe10',\n",
    "       'Fe11', 'Fe12'])\n",
    "        df = df.drop(['Fe8', 'Fe11', 'Fe5', 'Fe4', 'Fe10', 'Fe9', 'Fe12'], axis=1)\n",
    "        mfcc_feat = np.array(df)\n",
    "        \n",
    "    if method=='chi2':\n",
    "        df = pd.DataFrame(mfcc_feat, columns=['Fe1', 'Fe2', 'Fe3', 'Fe4', 'Fe5', 'Fe6', 'Fe7', 'Fe8', 'Fe9', 'Fe10',\n",
    "       'Fe11', 'Fe12'])\n",
    "        df = df.drop(['Fe1', 'Fe4', 'Fe6', 'Fe8', 'Fe9', 'Fe11', 'Fe12'], axis=1)\n",
    "        mfcc_feat = np.array(df)\n",
    "\n",
    "    \n",
    "        \n",
    "      \n",
    "    \n",
    "    pred = classifier.predict(scaler.transform(mfcc_feat))\n",
    "    \n",
    "    \n",
    "    \n",
    "    print('------------------')\n",
    "    print('Digit : ', pred[0])\n",
    "    print('------------------')\n",
    "\n",
    "\n",
    "rec(scaler, mlp, 'none')"
   ]
  },
  {
   "cell_type": "code",
   "execution_count": null,
   "id": "d909ade1",
   "metadata": {},
   "outputs": [],
   "source": []
  },
  {
   "cell_type": "code",
   "execution_count": null,
   "id": "269338ee",
   "metadata": {},
   "outputs": [],
   "source": []
  },
  {
   "cell_type": "code",
   "execution_count": null,
   "id": "5ed9bb87",
   "metadata": {},
   "outputs": [],
   "source": []
  }
 ],
 "metadata": {
  "kernelspec": {
   "display_name": "Python 3 (ipykernel)",
   "language": "python",
   "name": "python3"
  },
  "language_info": {
   "codemirror_mode": {
    "name": "ipython",
    "version": 3
   },
   "file_extension": ".py",
   "mimetype": "text/x-python",
   "name": "python",
   "nbconvert_exporter": "python",
   "pygments_lexer": "ipython3",
   "version": "3.9.7"
  }
 },
 "nbformat": 4,
 "nbformat_minor": 5
}
