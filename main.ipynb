{
 "cells": [
  {
   "cell_type": "code",
   "execution_count": 1,
   "id": "d92e3419",
   "metadata": {},
   "outputs": [],
   "source": [
    "import numpy as np\n",
    "import os\n",
    "import matplotlib.pyplot as plt\n",
    "import seaborn as sb\n",
    "sb.set_style(\"whitegrid\", {'axes.grid' : False})\n",
    "sb.set(font_scale = 2)\n",
    "import pandas as pd\n",
    "from sklearn.model_selection import train_test_split\n",
    "from sklearn.preprocessing import StandardScaler\n",
    "from sklearn.tree import DecisionTreeClassifier\n",
    "from sklearn.ensemble import RandomForestClassifier\n",
    "from sklearn.ensemble import GradientBoostingClassifier\n",
    "from sklearn.svm import SVC\n",
    "from sklearn.neural_network import MLPClassifier \n",
    "from Tools.tools import rec\n",
    "from Tools.tools import collection\n",
    "from sklearn.pipeline import make_pipeline\n",
    "from sklearn.neighbors import KNeighborsClassifier\n",
    "from sklearn.model_selection import GridSearchCV\n",
    "from sklearn.metrics import precision_score\n",
    "from xgboost import XGBClassifier\n",
    "from sklearn.metrics import confusion_matrix\n",
    "from sklearn.feature_selection import SelectKBest"
   ]
  },
  {
   "cell_type": "markdown",
   "id": "61586ff4",
   "metadata": {},
   "source": [
    "#### 1. Importer votre DataSet"
   ]
  },
  {
   "cell_type": "code",
   "execution_count": 2,
   "id": "739a54fa",
   "metadata": {},
   "outputs": [],
   "source": [
    "df = pd.read_csv('./Dataset/'+os.listdir('./Dataset/')[0])"
   ]
  },
  {
   "cell_type": "code",
   "execution_count": 4,
   "id": "cd627f04",
   "metadata": {},
   "outputs": [
    {
     "data": {
      "text/html": [
       "<div>\n",
       "<style scoped>\n",
       "    .dataframe tbody tr th:only-of-type {\n",
       "        vertical-align: middle;\n",
       "    }\n",
       "\n",
       "    .dataframe tbody tr th {\n",
       "        vertical-align: top;\n",
       "    }\n",
       "\n",
       "    .dataframe thead th {\n",
       "        text-align: right;\n",
       "    }\n",
       "</style>\n",
       "<table border=\"1\" class=\"dataframe\">\n",
       "  <thead>\n",
       "    <tr style=\"text-align: right;\">\n",
       "      <th></th>\n",
       "      <th>Fe1</th>\n",
       "      <th>Fe2</th>\n",
       "      <th>Fe3</th>\n",
       "      <th>Fe4</th>\n",
       "      <th>Fe5</th>\n",
       "      <th>Fe6</th>\n",
       "      <th>Fe7</th>\n",
       "      <th>Fe8</th>\n",
       "      <th>Fe9</th>\n",
       "      <th>Fe10</th>\n",
       "      <th>Fe11</th>\n",
       "      <th>Fe12</th>\n",
       "      <th>Target</th>\n",
       "    </tr>\n",
       "  </thead>\n",
       "  <tbody>\n",
       "    <tr>\n",
       "      <th>0</th>\n",
       "      <td>14.274666</td>\n",
       "      <td>0.306604</td>\n",
       "      <td>-6.509358</td>\n",
       "      <td>25.684822</td>\n",
       "      <td>6.009788</td>\n",
       "      <td>8.236848</td>\n",
       "      <td>-4.603504</td>\n",
       "      <td>7.190116</td>\n",
       "      <td>-8.385201</td>\n",
       "      <td>8.234614</td>\n",
       "      <td>1.610211</td>\n",
       "      <td>0.485977</td>\n",
       "      <td>0.0</td>\n",
       "    </tr>\n",
       "    <tr>\n",
       "      <th>1</th>\n",
       "      <td>14.075767</td>\n",
       "      <td>-4.393329</td>\n",
       "      <td>-6.786652</td>\n",
       "      <td>15.713791</td>\n",
       "      <td>6.494777</td>\n",
       "      <td>8.307470</td>\n",
       "      <td>-0.646492</td>\n",
       "      <td>18.590163</td>\n",
       "      <td>-6.765775</td>\n",
       "      <td>10.011137</td>\n",
       "      <td>0.032082</td>\n",
       "      <td>1.595067</td>\n",
       "      <td>1.0</td>\n",
       "    </tr>\n",
       "    <tr>\n",
       "      <th>2</th>\n",
       "      <td>13.385394</td>\n",
       "      <td>-2.412716</td>\n",
       "      <td>-4.905458</td>\n",
       "      <td>18.909799</td>\n",
       "      <td>10.608101</td>\n",
       "      <td>11.484525</td>\n",
       "      <td>0.222476</td>\n",
       "      <td>10.676471</td>\n",
       "      <td>-9.668632</td>\n",
       "      <td>5.637295</td>\n",
       "      <td>-5.071390</td>\n",
       "      <td>0.665733</td>\n",
       "      <td>2.0</td>\n",
       "    </tr>\n",
       "    <tr>\n",
       "      <th>3</th>\n",
       "      <td>14.335635</td>\n",
       "      <td>-3.923458</td>\n",
       "      <td>-8.288954</td>\n",
       "      <td>21.251131</td>\n",
       "      <td>4.331520</td>\n",
       "      <td>2.935059</td>\n",
       "      <td>-5.941685</td>\n",
       "      <td>12.855108</td>\n",
       "      <td>-1.215089</td>\n",
       "      <td>11.138346</td>\n",
       "      <td>1.452981</td>\n",
       "      <td>1.936708</td>\n",
       "      <td>3.0</td>\n",
       "    </tr>\n",
       "    <tr>\n",
       "      <th>4</th>\n",
       "      <td>12.976791</td>\n",
       "      <td>-7.668485</td>\n",
       "      <td>-9.849166</td>\n",
       "      <td>13.470379</td>\n",
       "      <td>3.166024</td>\n",
       "      <td>7.288091</td>\n",
       "      <td>0.330541</td>\n",
       "      <td>18.057565</td>\n",
       "      <td>-6.420736</td>\n",
       "      <td>5.402359</td>\n",
       "      <td>-5.311179</td>\n",
       "      <td>6.554399</td>\n",
       "      <td>4.0</td>\n",
       "    </tr>\n",
       "  </tbody>\n",
       "</table>\n",
       "</div>"
      ],
      "text/plain": [
       "         Fe1       Fe2       Fe3        Fe4        Fe5        Fe6       Fe7  \\\n",
       "0  14.274666  0.306604 -6.509358  25.684822   6.009788   8.236848 -4.603504   \n",
       "1  14.075767 -4.393329 -6.786652  15.713791   6.494777   8.307470 -0.646492   \n",
       "2  13.385394 -2.412716 -4.905458  18.909799  10.608101  11.484525  0.222476   \n",
       "3  14.335635 -3.923458 -8.288954  21.251131   4.331520   2.935059 -5.941685   \n",
       "4  12.976791 -7.668485 -9.849166  13.470379   3.166024   7.288091  0.330541   \n",
       "\n",
       "         Fe8       Fe9       Fe10      Fe11      Fe12  Target  \n",
       "0   7.190116 -8.385201   8.234614  1.610211  0.485977     0.0  \n",
       "1  18.590163 -6.765775  10.011137  0.032082  1.595067     1.0  \n",
       "2  10.676471 -9.668632   5.637295 -5.071390  0.665733     2.0  \n",
       "3  12.855108 -1.215089  11.138346  1.452981  1.936708     3.0  \n",
       "4  18.057565 -6.420736   5.402359 -5.311179  6.554399     4.0  "
      ]
     },
     "execution_count": 4,
     "metadata": {},
     "output_type": "execute_result"
    }
   ],
   "source": [
    "df.head(5)"
   ]
  },
  {
   "cell_type": "code",
   "execution_count": 5,
   "id": "a1871d46",
   "metadata": {},
   "outputs": [],
   "source": [
    "# selon quelles données on veut sélectionner\n",
    "# df = df.iloc[:240,:]"
   ]
  },
  {
   "cell_type": "markdown",
   "id": "0559465a",
   "metadata": {},
   "source": [
    "#### 2. Checker les variables quantitatives/qualitatives et les valeurs manquantes "
   ]
  },
  {
   "cell_type": "code",
   "execution_count": 7,
   "id": "5299b66f",
   "metadata": {},
   "outputs": [
    {
     "name": "stdout",
     "output_type": "stream",
     "text": [
      "<class 'pandas.core.frame.DataFrame'>\n",
      "RangeIndex: 440 entries, 0 to 439\n",
      "Data columns (total 13 columns):\n",
      " #   Column  Non-Null Count  Dtype  \n",
      "---  ------  --------------  -----  \n",
      " 0   Fe1     440 non-null    float64\n",
      " 1   Fe2     440 non-null    float64\n",
      " 2   Fe3     440 non-null    float64\n",
      " 3   Fe4     440 non-null    float64\n",
      " 4   Fe5     440 non-null    float64\n",
      " 5   Fe6     440 non-null    float64\n",
      " 6   Fe7     440 non-null    float64\n",
      " 7   Fe8     440 non-null    float64\n",
      " 8   Fe9     440 non-null    float64\n",
      " 9   Fe10    440 non-null    float64\n",
      " 10  Fe11    440 non-null    float64\n",
      " 11  Fe12    440 non-null    float64\n",
      " 12  Target  440 non-null    float64\n",
      "dtypes: float64(13)\n",
      "memory usage: 44.8 KB\n"
     ]
    }
   ],
   "source": [
    "df.info()"
   ]
  },
  {
   "cell_type": "code",
   "execution_count": 8,
   "id": "2d8f47b7",
   "metadata": {},
   "outputs": [
    {
     "data": {
      "text/html": [
       "<div>\n",
       "<style scoped>\n",
       "    .dataframe tbody tr th:only-of-type {\n",
       "        vertical-align: middle;\n",
       "    }\n",
       "\n",
       "    .dataframe tbody tr th {\n",
       "        vertical-align: top;\n",
       "    }\n",
       "\n",
       "    .dataframe thead th {\n",
       "        text-align: right;\n",
       "    }\n",
       "</style>\n",
       "<table border=\"1\" class=\"dataframe\">\n",
       "  <thead>\n",
       "    <tr style=\"text-align: right;\">\n",
       "      <th></th>\n",
       "      <th>Fe1</th>\n",
       "      <th>Fe2</th>\n",
       "      <th>Fe3</th>\n",
       "      <th>Fe4</th>\n",
       "      <th>Fe5</th>\n",
       "      <th>Fe6</th>\n",
       "      <th>Fe7</th>\n",
       "      <th>Fe8</th>\n",
       "      <th>Fe9</th>\n",
       "      <th>Fe10</th>\n",
       "      <th>Fe11</th>\n",
       "      <th>Fe12</th>\n",
       "      <th>Target</th>\n",
       "    </tr>\n",
       "  </thead>\n",
       "  <tbody>\n",
       "    <tr>\n",
       "      <th>count</th>\n",
       "      <td>440.000000</td>\n",
       "      <td>440.000000</td>\n",
       "      <td>440.000000</td>\n",
       "      <td>440.000000</td>\n",
       "      <td>440.000000</td>\n",
       "      <td>440.000000</td>\n",
       "      <td>440.000000</td>\n",
       "      <td>440.000000</td>\n",
       "      <td>440.000000</td>\n",
       "      <td>440.000000</td>\n",
       "      <td>440.000000</td>\n",
       "      <td>440.000000</td>\n",
       "      <td>440.000000</td>\n",
       "    </tr>\n",
       "    <tr>\n",
       "      <th>mean</th>\n",
       "      <td>13.392723</td>\n",
       "      <td>-15.678716</td>\n",
       "      <td>-4.351348</td>\n",
       "      <td>4.509882</td>\n",
       "      <td>4.752673</td>\n",
       "      <td>-1.923197</td>\n",
       "      <td>1.709892</td>\n",
       "      <td>6.009051</td>\n",
       "      <td>-2.795247</td>\n",
       "      <td>3.273336</td>\n",
       "      <td>0.014614</td>\n",
       "      <td>1.104845</td>\n",
       "      <td>4.500000</td>\n",
       "    </tr>\n",
       "    <tr>\n",
       "      <th>std</th>\n",
       "      <td>2.251874</td>\n",
       "      <td>9.826878</td>\n",
       "      <td>5.172707</td>\n",
       "      <td>11.692770</td>\n",
       "      <td>4.988476</td>\n",
       "      <td>6.996632</td>\n",
       "      <td>3.314034</td>\n",
       "      <td>6.647960</td>\n",
       "      <td>4.489028</td>\n",
       "      <td>4.839960</td>\n",
       "      <td>3.869259</td>\n",
       "      <td>4.172348</td>\n",
       "      <td>2.875551</td>\n",
       "    </tr>\n",
       "    <tr>\n",
       "      <th>min</th>\n",
       "      <td>8.842483</td>\n",
       "      <td>-33.999218</td>\n",
       "      <td>-20.527578</td>\n",
       "      <td>-12.011691</td>\n",
       "      <td>-5.674680</td>\n",
       "      <td>-14.815182</td>\n",
       "      <td>-8.961207</td>\n",
       "      <td>-6.151173</td>\n",
       "      <td>-12.693762</td>\n",
       "      <td>-12.088923</td>\n",
       "      <td>-9.045685</td>\n",
       "      <td>-10.983585</td>\n",
       "      <td>0.000000</td>\n",
       "    </tr>\n",
       "    <tr>\n",
       "      <th>25%</th>\n",
       "      <td>11.084304</td>\n",
       "      <td>-21.758113</td>\n",
       "      <td>-8.131817</td>\n",
       "      <td>-7.069896</td>\n",
       "      <td>0.570256</td>\n",
       "      <td>-7.506239</td>\n",
       "      <td>-0.361427</td>\n",
       "      <td>0.352257</td>\n",
       "      <td>-6.024423</td>\n",
       "      <td>-0.717209</td>\n",
       "      <td>-2.783015</td>\n",
       "      <td>-2.123943</td>\n",
       "      <td>2.000000</td>\n",
       "    </tr>\n",
       "    <tr>\n",
       "      <th>50%</th>\n",
       "      <td>14.192614</td>\n",
       "      <td>-17.040308</td>\n",
       "      <td>-4.704118</td>\n",
       "      <td>1.824703</td>\n",
       "      <td>5.140637</td>\n",
       "      <td>-3.927217</td>\n",
       "      <td>1.712463</td>\n",
       "      <td>6.100699</td>\n",
       "      <td>-3.044637</td>\n",
       "      <td>4.106556</td>\n",
       "      <td>-0.277656</td>\n",
       "      <td>0.441999</td>\n",
       "      <td>4.500000</td>\n",
       "    </tr>\n",
       "    <tr>\n",
       "      <th>75%</th>\n",
       "      <td>15.202268</td>\n",
       "      <td>-7.295422</td>\n",
       "      <td>-1.061792</td>\n",
       "      <td>15.184342</td>\n",
       "      <td>8.469340</td>\n",
       "      <td>4.221967</td>\n",
       "      <td>3.953644</td>\n",
       "      <td>11.034809</td>\n",
       "      <td>0.173437</td>\n",
       "      <td>6.769473</td>\n",
       "      <td>2.716624</td>\n",
       "      <td>3.750725</td>\n",
       "      <td>7.000000</td>\n",
       "    </tr>\n",
       "    <tr>\n",
       "      <th>max</th>\n",
       "      <td>17.601392</td>\n",
       "      <td>4.205647</td>\n",
       "      <td>10.282961</td>\n",
       "      <td>35.322183</td>\n",
       "      <td>19.739664</td>\n",
       "      <td>15.076510</td>\n",
       "      <td>9.814816</td>\n",
       "      <td>21.738983</td>\n",
       "      <td>10.689613</td>\n",
       "      <td>15.096898</td>\n",
       "      <td>10.298641</td>\n",
       "      <td>11.608511</td>\n",
       "      <td>9.000000</td>\n",
       "    </tr>\n",
       "  </tbody>\n",
       "</table>\n",
       "</div>"
      ],
      "text/plain": [
       "              Fe1         Fe2         Fe3         Fe4         Fe5         Fe6  \\\n",
       "count  440.000000  440.000000  440.000000  440.000000  440.000000  440.000000   \n",
       "mean    13.392723  -15.678716   -4.351348    4.509882    4.752673   -1.923197   \n",
       "std      2.251874    9.826878    5.172707   11.692770    4.988476    6.996632   \n",
       "min      8.842483  -33.999218  -20.527578  -12.011691   -5.674680  -14.815182   \n",
       "25%     11.084304  -21.758113   -8.131817   -7.069896    0.570256   -7.506239   \n",
       "50%     14.192614  -17.040308   -4.704118    1.824703    5.140637   -3.927217   \n",
       "75%     15.202268   -7.295422   -1.061792   15.184342    8.469340    4.221967   \n",
       "max     17.601392    4.205647   10.282961   35.322183   19.739664   15.076510   \n",
       "\n",
       "              Fe7         Fe8         Fe9        Fe10        Fe11        Fe12  \\\n",
       "count  440.000000  440.000000  440.000000  440.000000  440.000000  440.000000   \n",
       "mean     1.709892    6.009051   -2.795247    3.273336    0.014614    1.104845   \n",
       "std      3.314034    6.647960    4.489028    4.839960    3.869259    4.172348   \n",
       "min     -8.961207   -6.151173  -12.693762  -12.088923   -9.045685  -10.983585   \n",
       "25%     -0.361427    0.352257   -6.024423   -0.717209   -2.783015   -2.123943   \n",
       "50%      1.712463    6.100699   -3.044637    4.106556   -0.277656    0.441999   \n",
       "75%      3.953644   11.034809    0.173437    6.769473    2.716624    3.750725   \n",
       "max      9.814816   21.738983   10.689613   15.096898   10.298641   11.608511   \n",
       "\n",
       "           Target  \n",
       "count  440.000000  \n",
       "mean     4.500000  \n",
       "std      2.875551  \n",
       "min      0.000000  \n",
       "25%      2.000000  \n",
       "50%      4.500000  \n",
       "75%      7.000000  \n",
       "max      9.000000  "
      ]
     },
     "execution_count": 8,
     "metadata": {},
     "output_type": "execute_result"
    }
   ],
   "source": [
    "df.describe()"
   ]
  },
  {
   "cell_type": "code",
   "execution_count": 9,
   "id": "4dbf73bc",
   "metadata": {},
   "outputs": [
    {
     "data": {
      "text/plain": [
       "(440, 12)"
      ]
     },
     "execution_count": 9,
     "metadata": {},
     "output_type": "execute_result"
    }
   ],
   "source": [
    "y = df['Target']\n",
    "y = y.astype(int)\n",
    "X = df.iloc[:,:-1]\n",
    "X.shape"
   ]
  },
  {
   "cell_type": "markdown",
   "id": "df178c77",
   "metadata": {},
   "source": [
    "### Test de corrélation : sélection des variables les plus corrélées dans un DF X1"
   ]
  },
  {
   "cell_type": "code",
   "execution_count": 10,
   "id": "174a3204",
   "metadata": {},
   "outputs": [],
   "source": [
    "df.corrwith(df['Target'], method='pearson').abs().sort_values(ascending=False)\n",
    "\n",
    "X1 = df.drop(['Fe8', 'Fe11', 'Fe5', 'Fe4', 'Fe10', 'Fe9', 'Fe12', 'Target'], axis=1)"
   ]
  },
  {
   "cell_type": "code",
   "execution_count": 11,
   "id": "1fef17f2",
   "metadata": {},
   "outputs": [
    {
     "data": {
      "text/html": [
       "<div>\n",
       "<style scoped>\n",
       "    .dataframe tbody tr th:only-of-type {\n",
       "        vertical-align: middle;\n",
       "    }\n",
       "\n",
       "    .dataframe tbody tr th {\n",
       "        vertical-align: top;\n",
       "    }\n",
       "\n",
       "    .dataframe thead th {\n",
       "        text-align: right;\n",
       "    }\n",
       "</style>\n",
       "<table border=\"1\" class=\"dataframe\">\n",
       "  <thead>\n",
       "    <tr style=\"text-align: right;\">\n",
       "      <th></th>\n",
       "      <th>Fe1</th>\n",
       "      <th>Fe2</th>\n",
       "      <th>Fe3</th>\n",
       "      <th>Fe6</th>\n",
       "      <th>Fe7</th>\n",
       "    </tr>\n",
       "  </thead>\n",
       "  <tbody>\n",
       "    <tr>\n",
       "      <th>0</th>\n",
       "      <td>14.274666</td>\n",
       "      <td>0.306604</td>\n",
       "      <td>-6.509358</td>\n",
       "      <td>8.236848</td>\n",
       "      <td>-4.603504</td>\n",
       "    </tr>\n",
       "    <tr>\n",
       "      <th>1</th>\n",
       "      <td>14.075767</td>\n",
       "      <td>-4.393329</td>\n",
       "      <td>-6.786652</td>\n",
       "      <td>8.307470</td>\n",
       "      <td>-0.646492</td>\n",
       "    </tr>\n",
       "    <tr>\n",
       "      <th>2</th>\n",
       "      <td>13.385394</td>\n",
       "      <td>-2.412716</td>\n",
       "      <td>-4.905458</td>\n",
       "      <td>11.484525</td>\n",
       "      <td>0.222476</td>\n",
       "    </tr>\n",
       "    <tr>\n",
       "      <th>3</th>\n",
       "      <td>14.335635</td>\n",
       "      <td>-3.923458</td>\n",
       "      <td>-8.288954</td>\n",
       "      <td>2.935059</td>\n",
       "      <td>-5.941685</td>\n",
       "    </tr>\n",
       "    <tr>\n",
       "      <th>4</th>\n",
       "      <td>12.976791</td>\n",
       "      <td>-7.668485</td>\n",
       "      <td>-9.849166</td>\n",
       "      <td>7.288091</td>\n",
       "      <td>0.330541</td>\n",
       "    </tr>\n",
       "  </tbody>\n",
       "</table>\n",
       "</div>"
      ],
      "text/plain": [
       "         Fe1       Fe2       Fe3        Fe6       Fe7\n",
       "0  14.274666  0.306604 -6.509358   8.236848 -4.603504\n",
       "1  14.075767 -4.393329 -6.786652   8.307470 -0.646492\n",
       "2  13.385394 -2.412716 -4.905458  11.484525  0.222476\n",
       "3  14.335635 -3.923458 -8.288954   2.935059 -5.941685\n",
       "4  12.976791 -7.668485 -9.849166   7.288091  0.330541"
      ]
     },
     "execution_count": 11,
     "metadata": {},
     "output_type": "execute_result"
    }
   ],
   "source": [
    "X1.head()"
   ]
  },
  {
   "cell_type": "markdown",
   "id": "8f174e26",
   "metadata": {},
   "source": [
    "### Notre variable target (Y) est 'gender', Récuprer X et y à partir du jeu de données "
   ]
  },
  {
   "cell_type": "code",
   "execution_count": 12,
   "id": "0a59cb01",
   "metadata": {},
   "outputs": [],
   "source": [
    "y = df['Target']\n",
    "y = y.astype(int)\n",
    "X = df.iloc[:,:-1]\n",
    "# X.shape\n",
    "# X = X1"
   ]
  },
  {
   "cell_type": "markdown",
   "id": "20277950",
   "metadata": {},
   "source": [
    "#### 4. Diviser la DataSet en donneés d'apprentissage et de test (20% pour le test)"
   ]
  },
  {
   "cell_type": "code",
   "execution_count": 13,
   "id": "5a73403f",
   "metadata": {},
   "outputs": [],
   "source": [
    "X_train, X_test, y_train, y_test = train_test_split(X, y, test_size=0.2, random_state=34)"
   ]
  },
  {
   "cell_type": "code",
   "execution_count": 14,
   "id": "cd844829",
   "metadata": {},
   "outputs": [
    {
     "data": {
      "text/plain": [
       "6    37\n",
       "4    37\n",
       "9    36\n",
       "8    36\n",
       "5    35\n",
       "3    35\n",
       "2    35\n",
       "1    35\n",
       "0    34\n",
       "7    32\n",
       "Name: Target, dtype: int64"
      ]
     },
     "execution_count": 14,
     "metadata": {},
     "output_type": "execute_result"
    }
   ],
   "source": [
    "# vérification de la répartition des valeurs pour la cible (train)\n",
    "y_train.value_counts()"
   ]
  },
  {
   "cell_type": "code",
   "execution_count": 15,
   "id": "ef69b56f",
   "metadata": {},
   "outputs": [
    {
     "data": {
      "text/plain": [
       "7    12\n",
       "0    10\n",
       "5     9\n",
       "3     9\n",
       "2     9\n",
       "1     9\n",
       "9     8\n",
       "8     8\n",
       "6     7\n",
       "4     7\n",
       "Name: Target, dtype: int64"
      ]
     },
     "execution_count": 15,
     "metadata": {},
     "output_type": "execute_result"
    }
   ],
   "source": [
    "# vérification de la répartition des valeurs pour la cible (test)\n",
    "y_test.value_counts()"
   ]
  },
  {
   "cell_type": "code",
   "execution_count": 16,
   "id": "f5140940",
   "metadata": {},
   "outputs": [
    {
     "data": {
      "text/plain": [
       "(352, 12)"
      ]
     },
     "execution_count": 16,
     "metadata": {},
     "output_type": "execute_result"
    }
   ],
   "source": [
    "X_train.shape"
   ]
  },
  {
   "cell_type": "raw",
   "id": "eb4fa423",
   "metadata": {},
   "source": []
  },
  {
   "cell_type": "markdown",
   "id": "9c0f82a8",
   "metadata": {},
   "source": [
    "## 6. Développer votre meilleur modèle de classification"
   ]
  },
  {
   "cell_type": "code",
   "execution_count": 17,
   "id": "3c52e82b",
   "metadata": {},
   "outputs": [],
   "source": [
    "resultats = dict()"
   ]
  },
  {
   "cell_type": "markdown",
   "id": "1729f360",
   "metadata": {},
   "source": [
    "### DecisionTreeClassifier"
   ]
  },
  {
   "cell_type": "code",
   "execution_count": 18,
   "id": "f889430f",
   "metadata": {},
   "outputs": [
    {
     "name": "stdout",
     "output_type": "stream",
     "text": [
      "meilleur score (train) : 1.0\n",
      "meilleur score (test) : 0.5113636363636364\n",
      "meilleurs paramètres : {'decisiontreeclassifier__criterion': 'gini'}\n"
     ]
    },
    {
     "data": {
      "text/plain": [
       "<AxesSubplot:>"
      ]
     },
     "execution_count": 18,
     "metadata": {},
     "output_type": "execute_result"
    },
    {
     "data": {
      "image/png": "[encoded data removed]",
      "text/plain": [
       "<Figure size 432x288 with 2 Axes>"
      ]
     },
     "metadata": {},
     "output_type": "display_data"
    }
   ],
   "source": [
    "# dictionnaires de paramètres pour l'estimateur\n",
    "parametres = {\n",
    "    'decisiontreeclassifier__criterion' : ['gini', 'entropy'] \n",
    "}\n",
    "\n",
    "# créer le pipeline\n",
    "pipe1 = make_pipeline(StandardScaler(), DecisionTreeClassifier())\n",
    "\n",
    "# créer la grille de recherche ; entrainement des données\n",
    "mod = GridSearchCV(pipe1, param_grid=parametres, cv=5, scoring='accuracy')\n",
    "mod.fit(X_train, y_train)\n",
    "y_pred = mod.predict(X_test)\n",
    "\n",
    "\n",
    "# les scores\n",
    "strain = mod.score(X_train, y_train)\n",
    "stest = mod.score(X_test, y_test)\n",
    "\n",
    "resultats['Decision Tree'] = [strain, stest]\n",
    "\n",
    "print(f'meilleur score (train) : {strain}')\n",
    "print(f'meilleur score (test) : {stest}')\n",
    "print(f'meilleurs paramètres : {mod.best_params_}')\n",
    "sb.heatmap(confusion_matrix(y_test, y_pred), annot=True)"
   ]
  },
  {
   "cell_type": "markdown",
   "id": "83c933b5",
   "metadata": {},
   "source": [
    "### RandomForestClassifier"
   ]
  },
  {
   "cell_type": "code",
   "execution_count": 19,
   "id": "97479949",
   "metadata": {},
   "outputs": [
    {
     "name": "stdout",
     "output_type": "stream",
     "text": [
      "meilleur score : 1.0\n",
      "meilleur score : 0.6363636363636364\n",
      "meilleurs paramètres : {'randomforestclassifier__bootstrap': False, 'randomforestclassifier__n_estimators': 200}\n"
     ]
    },
    {
     "data": {
      "text/plain": [
       "<AxesSubplot:>"
      ]
     },
     "execution_count": 19,
     "metadata": {},
     "output_type": "execute_result"
    },
    {
     "data": {
      "image/png": "[encoded data removed]",
      "text/plain": [
       "<Figure size 432x288 with 2 Axes>"
      ]
     },
     "metadata": {},
     "output_type": "display_data"
    }
   ],
   "source": [
    "# dictionnaires de paramètres pour l'estimateur\n",
    "parametres = {\n",
    "    'randomforestclassifier__n_estimators' : [200],\n",
    "    'randomforestclassifier__bootstrap' : [False]\n",
    "}\n",
    "\n",
    "# créer le pipeline\n",
    "pipe1 = make_pipeline(StandardScaler(), RandomForestClassifier())\n",
    "\n",
    "# créer la grille de recherche ; entrainement des données\n",
    "mod = GridSearchCV(pipe1, param_grid=parametres, cv=2, scoring='accuracy')\n",
    "mod.fit(X_train, y_train)\n",
    "y_pred = mod.predict(X_test)\n",
    "\n",
    "# les scores\n",
    "strain = mod.score(X_train, y_train)\n",
    "stest = mod.score(X_test, y_test)\n",
    "\n",
    "resultats['Random Forest'] = [strain, stest]\n",
    "\n",
    "print(f'meilleur score : {strain}')\n",
    "print(f'meilleur score : {stest}')\n",
    "print(f'meilleurs paramètres : {mod.best_params_}')\n",
    "sb.heatmap(confusion_matrix(y_test, y_pred), annot=True)"
   ]
  },
  {
   "cell_type": "markdown",
   "id": "aad4f8c8",
   "metadata": {},
   "source": [
    "### GradientBoostingClassifier"
   ]
  },
  {
   "cell_type": "markdown",
   "id": "f6d05d60",
   "metadata": {},
   "source": [
    "### MLPClassifier"
   ]
  },
  {
   "cell_type": "code",
   "execution_count": 20,
   "id": "9aa5b144",
   "metadata": {},
   "outputs": [
    {
     "name": "stdout",
     "output_type": "stream",
     "text": [
      "meilleur score : 1.0\n",
      "meilleur score : 0.7840909090909091\n",
      "meilleurs paramètres : {'mlpclassifier__learning_rate_init': 0.002, 'mlpclassifier__max_iter': 5000, 'mlpclassifier__random_state': 50, 'mlpclassifier__warm_start': False}\n"
     ]
    },
    {
     "data": {
      "text/plain": [
       "<AxesSubplot:>"
      ]
     },
     "execution_count": 20,
     "metadata": {},
     "output_type": "execute_result"
    },
    {
     "data": {
      "image/png": "[encoded data removed]",
      "text/plain": [
       "<Figure size 432x288 with 2 Axes>"
      ]
     },
     "metadata": {},
     "output_type": "display_data"
    }
   ],
   "source": [
    "# dictionnaires de paramètres pour l'estimateur\n",
    "\n",
    "parametres = {\n",
    "    \n",
    "    'mlpclassifier__max_iter' : [5000, 10000],\n",
    "    'mlpclassifier__learning_rate_init' : [0.005, 0.007, 0.002],\n",
    "    'mlpclassifier__warm_start' : [False, True],\n",
    "    'mlpclassifier__random_state' : [50]\n",
    "}\n",
    "\n",
    "# créer le pipeline\n",
    "pipe1 = make_pipeline(StandardScaler(), MLPClassifier())\n",
    "\n",
    "# créer la grille de recherche ; entrainement des données\n",
    "mod = GridSearchCV(pipe1, param_grid=parametres, cv=5, scoring='accuracy')\n",
    "mod.fit(X_train, y_train)\n",
    "y_pred = mod.predict(X_test)\n",
    "\n",
    "# les scores\n",
    "strain = mod.score(X_train, y_train)\n",
    "stest = mod.score(X_test, y_test)\n",
    "\n",
    "resultats['MLP classifier'] = [strain, stest]\n",
    "\n",
    "print(f'meilleur score : {strain}')\n",
    "print(f'meilleur score : {stest}')\n",
    "print(f'meilleurs paramètres : {mod.best_params_}')\n",
    "sb.heatmap(confusion_matrix(y_test, y_pred), annot=True)"
   ]
  },
  {
   "cell_type": "markdown",
   "id": "2d90c70c",
   "metadata": {},
   "source": [
    "### KNeighborsClassifier"
   ]
  },
  {
   "cell_type": "code",
   "execution_count": 21,
   "id": "e6e93e59",
   "metadata": {},
   "outputs": [
    {
     "name": "stdout",
     "output_type": "stream",
     "text": [
      "meilleur score : 1.0\n",
      "meilleur score : 0.6931818181818182\n",
      "meilleurs paramètres : {'kneighborsclassifier__algorithm': 'brute', 'kneighborsclassifier__metric': 'manhattan', 'kneighborsclassifier__n_neighbors': 4, 'kneighborsclassifier__weights': 'distance'}\n"
     ]
    },
    {
     "data": {
      "text/plain": [
       "<AxesSubplot:>"
      ]
     },
     "execution_count": 21,
     "metadata": {},
     "output_type": "execute_result"
    },
    {
     "data": {
      "image/png": "[encoded data removed]",
      "text/plain": [
       "<Figure size 432x288 with 2 Axes>"
      ]
     },
     "metadata": {},
     "output_type": "display_data"
    }
   ],
   "source": [
    "# dictionnaires de paramètres pour l'estimateur\n",
    "parametres = {\n",
    "    'kneighborsclassifier__n_neighbors' : [x for x in range(1, 20)],\n",
    "    'kneighborsclassifier__weights' : ['uniform', 'distance'],\n",
    "    'kneighborsclassifier__algorithm' : ['brute', 'kd_tree', 'ball_tree'],\n",
    "    'kneighborsclassifier__metric' : ['minkowski', 'manhattan', 'euclidean'] \n",
    "}\n",
    "\n",
    "# créer le pipeline\n",
    "pipe1 = make_pipeline(StandardScaler(), KNeighborsClassifier())\n",
    "\n",
    "# créer la grille de recherche ; entrainement des données\n",
    "mod = GridSearchCV(pipe1, param_grid=parametres, cv=5, scoring='accuracy')\n",
    "mod.fit(X_train, y_train)\n",
    "y_pred = mod.predict(X_test)\n",
    "\n",
    "# les scores\n",
    "strain = mod.score(X_train, y_train)\n",
    "stest = mod.score(X_test, y_test)\n",
    "\n",
    "resultats['KNN'] = [strain, stest]\n",
    "\n",
    "print(f'meilleur score : {strain}')\n",
    "print(f'meilleur score : {stest}')\n",
    "print(f'meilleurs paramètres : {mod.best_params_}')\n",
    "sb.heatmap(confusion_matrix(y_test, y_pred), annot=True)"
   ]
  },
  {
   "cell_type": "markdown",
   "id": "87030219",
   "metadata": {},
   "source": [
    "### XGBClassifier"
   ]
  },
  {
   "cell_type": "code",
   "execution_count": 22,
   "id": "af7fbf36",
   "metadata": {},
   "outputs": [
    {
     "name": "stdout",
     "output_type": "stream",
     "text": [
      "meilleur score : 0.7670454545454546\n",
      "meilleur score : 0.6477272727272727\n",
      "meilleurs paramètres : {'xgbclassifier__booster': 'gblinear'}\n"
     ]
    },
    {
     "data": {
      "text/plain": [
       "<AxesSubplot:>"
      ]
     },
     "execution_count": 22,
     "metadata": {},
     "output_type": "execute_result"
    },
    {
     "data": {
      "image/png": "[encoded data removed]",
      "text/plain": [
       "<Figure size 432x288 with 2 Axes>"
      ]
     },
     "metadata": {},
     "output_type": "display_data"
    }
   ],
   "source": [
    "# dictionnaires de paramètres pour l'estimateur\n",
    "parametres = {\n",
    "    'xgbclassifier__booster' : ['gbtree', 'gblinear','dart']\n",
    "}\n",
    "\n",
    "# créer le pipeline\n",
    "pipe1 = make_pipeline(StandardScaler(),XGBClassifier())\n",
    "\n",
    "# créer la grille de recherche ; entrainement des données\n",
    "mod = GridSearchCV(pipe1, param_grid=parametres, cv=5, scoring='accuracy')\n",
    "mod.fit(X_train, y_train)\n",
    "y_pred = mod.predict(X_test)\n",
    "\n",
    "# les scores\n",
    "strain = mod.score(X_train, y_train)\n",
    "stest = mod.score(X_test, y_test)\n",
    "\n",
    "resultats['XGB classifier'] = [strain, stest]\n",
    "\n",
    "print(f'meilleur score : {strain}')\n",
    "print(f'meilleur score : {stest}')\n",
    "print(f'meilleurs paramètres : {mod.best_params_}')\n",
    "sb.heatmap(confusion_matrix(y_test, y_pred), annot=True)"
   ]
  },
  {
   "cell_type": "markdown",
   "id": "c384db25",
   "metadata": {},
   "source": [
    "### SVM"
   ]
  },
  {
   "cell_type": "code",
   "execution_count": 23,
   "id": "64a77417",
   "metadata": {},
   "outputs": [
    {
     "name": "stderr",
     "output_type": "stream",
     "text": [
      "/home/erwan/anaconda3/lib/python3.9/site-packages/sklearn/svm/_base.py:246: ConvergenceWarning: Solver terminated early (max_iter=20).  Consider pre-processing your data with StandardScaler or MinMaxScaler.\n",
      "  warnings.warn('Solver terminated early (max_iter=%i).'\n",
      "/home/erwan/anaconda3/lib/python3.9/site-packages/sklearn/svm/_base.py:246: ConvergenceWarning: Solver terminated early (max_iter=20).  Consider pre-processing your data with StandardScaler or MinMaxScaler.\n",
      "  warnings.warn('Solver terminated early (max_iter=%i).'\n",
      "/home/erwan/anaconda3/lib/python3.9/site-packages/sklearn/svm/_base.py:246: ConvergenceWarning: Solver terminated early (max_iter=20).  Consider pre-processing your data with StandardScaler or MinMaxScaler.\n",
      "  warnings.warn('Solver terminated early (max_iter=%i).'\n",
      "/home/erwan/anaconda3/lib/python3.9/site-packages/sklearn/svm/_base.py:246: ConvergenceWarning: Solver terminated early (max_iter=20).  Consider pre-processing your data with StandardScaler or MinMaxScaler.\n",
      "  warnings.warn('Solver terminated early (max_iter=%i).'\n",
      "/home/erwan/anaconda3/lib/python3.9/site-packages/sklearn/svm/_base.py:246: ConvergenceWarning: Solver terminated early (max_iter=20).  Consider pre-processing your data with StandardScaler or MinMaxScaler.\n",
      "  warnings.warn('Solver terminated early (max_iter=%i).'\n",
      "/home/erwan/anaconda3/lib/python3.9/site-packages/sklearn/svm/_base.py:246: ConvergenceWarning: Solver terminated early (max_iter=20).  Consider pre-processing your data with StandardScaler or MinMaxScaler.\n",
      "  warnings.warn('Solver terminated early (max_iter=%i).'\n",
      "/home/erwan/anaconda3/lib/python3.9/site-packages/sklearn/svm/_base.py:246: ConvergenceWarning: Solver terminated early (max_iter=20).  Consider pre-processing your data with StandardScaler or MinMaxScaler.\n",
      "  warnings.warn('Solver terminated early (max_iter=%i).'\n",
      "/home/erwan/anaconda3/lib/python3.9/site-packages/sklearn/svm/_base.py:246: ConvergenceWarning: Solver terminated early (max_iter=20).  Consider pre-processing your data with StandardScaler or MinMaxScaler.\n",
      "  warnings.warn('Solver terminated early (max_iter=%i).'\n",
      "/home/erwan/anaconda3/lib/python3.9/site-packages/sklearn/svm/_base.py:246: ConvergenceWarning: Solver terminated early (max_iter=20).  Consider pre-processing your data with StandardScaler or MinMaxScaler.\n",
      "  warnings.warn('Solver terminated early (max_iter=%i).'\n",
      "/home/erwan/anaconda3/lib/python3.9/site-packages/sklearn/svm/_base.py:246: ConvergenceWarning: Solver terminated early (max_iter=20).  Consider pre-processing your data with StandardScaler or MinMaxScaler.\n",
      "  warnings.warn('Solver terminated early (max_iter=%i).'\n",
      "/home/erwan/anaconda3/lib/python3.9/site-packages/sklearn/svm/_base.py:246: ConvergenceWarning: Solver terminated early (max_iter=100).  Consider pre-processing your data with StandardScaler or MinMaxScaler.\n",
      "  warnings.warn('Solver terminated early (max_iter=%i).'\n",
      "/home/erwan/anaconda3/lib/python3.9/site-packages/sklearn/svm/_base.py:246: ConvergenceWarning: Solver terminated early (max_iter=100).  Consider pre-processing your data with StandardScaler or MinMaxScaler.\n",
      "  warnings.warn('Solver terminated early (max_iter=%i).'\n",
      "/home/erwan/anaconda3/lib/python3.9/site-packages/sklearn/svm/_base.py:246: ConvergenceWarning: Solver terminated early (max_iter=100).  Consider pre-processing your data with StandardScaler or MinMaxScaler.\n",
      "  warnings.warn('Solver terminated early (max_iter=%i).'\n",
      "/home/erwan/anaconda3/lib/python3.9/site-packages/sklearn/svm/_base.py:246: ConvergenceWarning: Solver terminated early (max_iter=100).  Consider pre-processing your data with StandardScaler or MinMaxScaler.\n",
      "  warnings.warn('Solver terminated early (max_iter=%i).'\n",
      "/home/erwan/anaconda3/lib/python3.9/site-packages/sklearn/svm/_base.py:246: ConvergenceWarning: Solver terminated early (max_iter=100).  Consider pre-processing your data with StandardScaler or MinMaxScaler.\n",
      "  warnings.warn('Solver terminated early (max_iter=%i).'\n",
      "/home/erwan/anaconda3/lib/python3.9/site-packages/sklearn/svm/_base.py:246: ConvergenceWarning: Solver terminated early (max_iter=20).  Consider pre-processing your data with StandardScaler or MinMaxScaler.\n",
      "  warnings.warn('Solver terminated early (max_iter=%i).'\n",
      "/home/erwan/anaconda3/lib/python3.9/site-packages/sklearn/svm/_base.py:246: ConvergenceWarning: Solver terminated early (max_iter=20).  Consider pre-processing your data with StandardScaler or MinMaxScaler.\n",
      "  warnings.warn('Solver terminated early (max_iter=%i).'\n",
      "/home/erwan/anaconda3/lib/python3.9/site-packages/sklearn/svm/_base.py:246: ConvergenceWarning: Solver terminated early (max_iter=20).  Consider pre-processing your data with StandardScaler or MinMaxScaler.\n",
      "  warnings.warn('Solver terminated early (max_iter=%i).'\n",
      "/home/erwan/anaconda3/lib/python3.9/site-packages/sklearn/svm/_base.py:246: ConvergenceWarning: Solver terminated early (max_iter=20).  Consider pre-processing your data with StandardScaler or MinMaxScaler.\n",
      "  warnings.warn('Solver terminated early (max_iter=%i).'\n",
      "/home/erwan/anaconda3/lib/python3.9/site-packages/sklearn/svm/_base.py:246: ConvergenceWarning: Solver terminated early (max_iter=20).  Consider pre-processing your data with StandardScaler or MinMaxScaler.\n",
      "  warnings.warn('Solver terminated early (max_iter=%i).'\n",
      "/home/erwan/anaconda3/lib/python3.9/site-packages/sklearn/svm/_base.py:246: ConvergenceWarning: Solver terminated early (max_iter=100).  Consider pre-processing your data with StandardScaler or MinMaxScaler.\n",
      "  warnings.warn('Solver terminated early (max_iter=%i).'\n",
      "/home/erwan/anaconda3/lib/python3.9/site-packages/sklearn/svm/_base.py:246: ConvergenceWarning: Solver terminated early (max_iter=100).  Consider pre-processing your data with StandardScaler or MinMaxScaler.\n",
      "  warnings.warn('Solver terminated early (max_iter=%i).'\n",
      "/home/erwan/anaconda3/lib/python3.9/site-packages/sklearn/svm/_base.py:246: ConvergenceWarning: Solver terminated early (max_iter=100).  Consider pre-processing your data with StandardScaler or MinMaxScaler.\n",
      "  warnings.warn('Solver terminated early (max_iter=%i).'\n",
      "/home/erwan/anaconda3/lib/python3.9/site-packages/sklearn/svm/_base.py:246: ConvergenceWarning: Solver terminated early (max_iter=20).  Consider pre-processing your data with StandardScaler or MinMaxScaler.\n",
      "  warnings.warn('Solver terminated early (max_iter=%i).'\n",
      "/home/erwan/anaconda3/lib/python3.9/site-packages/sklearn/svm/_base.py:246: ConvergenceWarning: Solver terminated early (max_iter=20).  Consider pre-processing your data with StandardScaler or MinMaxScaler.\n",
      "  warnings.warn('Solver terminated early (max_iter=%i).'\n",
      "/home/erwan/anaconda3/lib/python3.9/site-packages/sklearn/svm/_base.py:246: ConvergenceWarning: Solver terminated early (max_iter=20).  Consider pre-processing your data with StandardScaler or MinMaxScaler.\n",
      "  warnings.warn('Solver terminated early (max_iter=%i).'\n",
      "/home/erwan/anaconda3/lib/python3.9/site-packages/sklearn/svm/_base.py:246: ConvergenceWarning: Solver terminated early (max_iter=20).  Consider pre-processing your data with StandardScaler or MinMaxScaler.\n",
      "  warnings.warn('Solver terminated early (max_iter=%i).'\n",
      "/home/erwan/anaconda3/lib/python3.9/site-packages/sklearn/svm/_base.py:246: ConvergenceWarning: Solver terminated early (max_iter=20).  Consider pre-processing your data with StandardScaler or MinMaxScaler.\n",
      "  warnings.warn('Solver terminated early (max_iter=%i).'\n",
      "/home/erwan/anaconda3/lib/python3.9/site-packages/sklearn/svm/_base.py:246: ConvergenceWarning: Solver terminated early (max_iter=20).  Consider pre-processing your data with StandardScaler or MinMaxScaler.\n",
      "  warnings.warn('Solver terminated early (max_iter=%i).'\n",
      "/home/erwan/anaconda3/lib/python3.9/site-packages/sklearn/svm/_base.py:246: ConvergenceWarning: Solver terminated early (max_iter=20).  Consider pre-processing your data with StandardScaler or MinMaxScaler.\n",
      "  warnings.warn('Solver terminated early (max_iter=%i).'\n",
      "/home/erwan/anaconda3/lib/python3.9/site-packages/sklearn/svm/_base.py:246: ConvergenceWarning: Solver terminated early (max_iter=20).  Consider pre-processing your data with StandardScaler or MinMaxScaler.\n",
      "  warnings.warn('Solver terminated early (max_iter=%i).'\n",
      "/home/erwan/anaconda3/lib/python3.9/site-packages/sklearn/svm/_base.py:246: ConvergenceWarning: Solver terminated early (max_iter=20).  Consider pre-processing your data with StandardScaler or MinMaxScaler.\n",
      "  warnings.warn('Solver terminated early (max_iter=%i).'\n",
      "/home/erwan/anaconda3/lib/python3.9/site-packages/sklearn/svm/_base.py:246: ConvergenceWarning: Solver terminated early (max_iter=20).  Consider pre-processing your data with StandardScaler or MinMaxScaler.\n",
      "  warnings.warn('Solver terminated early (max_iter=%i).'\n",
      "/home/erwan/anaconda3/lib/python3.9/site-packages/sklearn/svm/_base.py:246: ConvergenceWarning: Solver terminated early (max_iter=100).  Consider pre-processing your data with StandardScaler or MinMaxScaler.\n",
      "  warnings.warn('Solver terminated early (max_iter=%i).'\n",
      "/home/erwan/anaconda3/lib/python3.9/site-packages/sklearn/svm/_base.py:246: ConvergenceWarning: Solver terminated early (max_iter=100).  Consider pre-processing your data with StandardScaler or MinMaxScaler.\n",
      "  warnings.warn('Solver terminated early (max_iter=%i).'\n",
      "/home/erwan/anaconda3/lib/python3.9/site-packages/sklearn/svm/_base.py:246: ConvergenceWarning: Solver terminated early (max_iter=100).  Consider pre-processing your data with StandardScaler or MinMaxScaler.\n",
      "  warnings.warn('Solver terminated early (max_iter=%i).'\n",
      "/home/erwan/anaconda3/lib/python3.9/site-packages/sklearn/svm/_base.py:246: ConvergenceWarning: Solver terminated early (max_iter=100).  Consider pre-processing your data with StandardScaler or MinMaxScaler.\n",
      "  warnings.warn('Solver terminated early (max_iter=%i).'\n",
      "/home/erwan/anaconda3/lib/python3.9/site-packages/sklearn/svm/_base.py:246: ConvergenceWarning: Solver terminated early (max_iter=100).  Consider pre-processing your data with StandardScaler or MinMaxScaler.\n",
      "  warnings.warn('Solver terminated early (max_iter=%i).'\n",
      "/home/erwan/anaconda3/lib/python3.9/site-packages/sklearn/svm/_base.py:246: ConvergenceWarning: Solver terminated early (max_iter=20).  Consider pre-processing your data with StandardScaler or MinMaxScaler.\n",
      "  warnings.warn('Solver terminated early (max_iter=%i).'\n",
      "/home/erwan/anaconda3/lib/python3.9/site-packages/sklearn/svm/_base.py:246: ConvergenceWarning: Solver terminated early (max_iter=20).  Consider pre-processing your data with StandardScaler or MinMaxScaler.\n",
      "  warnings.warn('Solver terminated early (max_iter=%i).'\n",
      "/home/erwan/anaconda3/lib/python3.9/site-packages/sklearn/svm/_base.py:246: ConvergenceWarning: Solver terminated early (max_iter=20).  Consider pre-processing your data with StandardScaler or MinMaxScaler.\n",
      "  warnings.warn('Solver terminated early (max_iter=%i).'\n",
      "/home/erwan/anaconda3/lib/python3.9/site-packages/sklearn/svm/_base.py:246: ConvergenceWarning: Solver terminated early (max_iter=20).  Consider pre-processing your data with StandardScaler or MinMaxScaler.\n",
      "  warnings.warn('Solver terminated early (max_iter=%i).'\n",
      "/home/erwan/anaconda3/lib/python3.9/site-packages/sklearn/svm/_base.py:246: ConvergenceWarning: Solver terminated early (max_iter=20).  Consider pre-processing your data with StandardScaler or MinMaxScaler.\n",
      "  warnings.warn('Solver terminated early (max_iter=%i).'\n",
      "/home/erwan/anaconda3/lib/python3.9/site-packages/sklearn/svm/_base.py:246: ConvergenceWarning: Solver terminated early (max_iter=100).  Consider pre-processing your data with StandardScaler or MinMaxScaler.\n",
      "  warnings.warn('Solver terminated early (max_iter=%i).'\n"
     ]
    },
    {
     "name": "stdout",
     "output_type": "stream",
     "text": [
      "meilleur score : 0.7471590909090909\n",
      "meilleur score : 0.6590909090909091\n",
      "meilleurs paramètres : {'svc__gamma': 'auto', 'svc__kernel': 'poly', 'svc__max_iter': 100}\n"
     ]
    },
    {
     "name": "stderr",
     "output_type": "stream",
     "text": [
      "/home/erwan/anaconda3/lib/python3.9/site-packages/sklearn/svm/_base.py:246: ConvergenceWarning: Solver terminated early (max_iter=100).  Consider pre-processing your data with StandardScaler or MinMaxScaler.\n",
      "  warnings.warn('Solver terminated early (max_iter=%i).'\n",
      "/home/erwan/anaconda3/lib/python3.9/site-packages/sklearn/svm/_base.py:246: ConvergenceWarning: Solver terminated early (max_iter=100).  Consider pre-processing your data with StandardScaler or MinMaxScaler.\n",
      "  warnings.warn('Solver terminated early (max_iter=%i).'\n",
      "/home/erwan/anaconda3/lib/python3.9/site-packages/sklearn/svm/_base.py:246: ConvergenceWarning: Solver terminated early (max_iter=100).  Consider pre-processing your data with StandardScaler or MinMaxScaler.\n",
      "  warnings.warn('Solver terminated early (max_iter=%i).'\n"
     ]
    },
    {
     "data": {
      "text/plain": [
       "<AxesSubplot:>"
      ]
     },
     "execution_count": 23,
     "metadata": {},
     "output_type": "execute_result"
    },
    {
     "data": {
      "image/png": "[encoded data removed]",
      "text/plain": [
       "<Figure size 432x288 with 2 Axes>"
      ]
     },
     "metadata": {},
     "output_type": "display_data"
    }
   ],
   "source": [
    "\n",
    "# dictionnaires de paramètres pour l'estimateur\n",
    "parametres = {\n",
    "    'svc__kernel' : ['rbf', 'poly','sigmoid' ],\n",
    "    'svc__gamma' : ['auto', 'scale'],\n",
    "    'svc__max_iter' : [20, 100]\n",
    "}\n",
    "\n",
    "ssc = StandardScaler().fit_transform(X_train)\n",
    "# créer le pipeline\n",
    "pipe1 = make_pipeline(StandardScaler(),SVC())\n",
    "\n",
    "# créer la grille de recherche ; entrainement des données\n",
    "mod = GridSearchCV(pipe1, param_grid=parametres, cv=5, scoring='accuracy')\n",
    "mod.fit(X_train, y_train)\n",
    "y_pred = mod.predict(X_test)\n",
    "\n",
    "# les scores\n",
    "strain = mod.score(X_train, y_train)\n",
    "stest = mod.score(X_test, y_test)\n",
    "\n",
    "resultats['SVC'] = [strain, stest]\n",
    "\n",
    "print(f'meilleur score : {strain}')\n",
    "print(f'meilleur score : {stest}')\n",
    "print(f'meilleurs paramètres : {mod.best_params_}')\n",
    "sb.heatmap(confusion_matrix(y_test, y_pred), annot=True)"
   ]
  },
  {
   "cell_type": "code",
   "execution_count": 24,
   "id": "94007f68",
   "metadata": {},
   "outputs": [
    {
     "name": "stdout",
     "output_type": "stream",
     "text": [
      "Decision Tree\n",
      "--Résultat du Train : 1.0\n",
      "--Résultat du Test : 0.5113636363636364\n",
      "Random Forest\n",
      "--Résultat du Train : 1.0\n",
      "--Résultat du Test : 0.6363636363636364\n",
      "MLP classifier\n",
      "--Résultat du Train : 1.0\n",
      "--Résultat du Test : 0.7840909090909091\n",
      "KNN\n",
      "--Résultat du Train : 1.0\n",
      "--Résultat du Test : 0.6931818181818182\n",
      "XGB classifier\n",
      "--Résultat du Train : 0.7670454545454546\n",
      "--Résultat du Test : 0.6477272727272727\n",
      "SVC\n",
      "--Résultat du Train : 0.7471590909090909\n",
      "--Résultat du Test : 0.6590909090909091\n"
     ]
    }
   ],
   "source": [
    "resultats\n",
    "for i,j in resultats.items():\n",
    "    print(i)\n",
    "    print(f'--Résultat du Train : {j[0]}')\n",
    "    print(f'--Résultat du Test : {j[1]}')\n",
    "    \n",
    "    \n",
    "    "
   ]
  },
  {
   "cell_type": "markdown",
   "id": "df84da6c",
   "metadata": {},
   "source": [
    "# Essai dans un programme"
   ]
  },
  {
   "cell_type": "code",
   "execution_count": 29,
   "id": "4bf9fba7",
   "metadata": {},
   "outputs": [],
   "source": [
    "# Instanciation de l'objet de standardisation\n",
    "scaler = StandardScaler().fit(X_train)\n",
    "X_fit = scaler.transform(X_train)\n",
    "\n",
    "# Création du modèle :\n",
    "clf = MLPClassifier(learning_rate_init=0.002, max_iter=5000, random_state=50, warm_start= False )"
   ]
  },
  {
   "cell_type": "code",
   "execution_count": 43,
   "id": "57138957",
   "metadata": {},
   "outputs": [
    {
     "name": "stdout",
     "output_type": "stream",
     "text": [
      "Attention, l'enregistrement commence dans :\n",
      "1\n",
      "0\n",
      "Prononcer votre Digit : \n",
      "------------------\n",
      "Digit :  5\n",
      "------------------\n"
     ]
    }
   ],
   "source": [
    "import sounddevice as sd #sinon pip install sounddevice\n",
    "import time #sinon pip install python-time\n",
    "import scipy.io.wavfile as wav\n",
    "from python_speech_features import mfcc #sinon pip install python_speech_features==0.4\n",
    "import wave\n",
    "import os\n",
    "\n",
    "def rec(scaler, classifier, method):\n",
    "\n",
    "    print(\"Attention, l'enregistrement commence dans :\")\n",
    "    \n",
    "    for i in range(0,2):\n",
    "        time.sleep(1)\n",
    "        print(1-i)\n",
    "    \n",
    "    time.sleep(1)\n",
    "    \n",
    "    rate = 48000\n",
    "    duration = 1\n",
    "           \n",
    "    \n",
    "\n",
    "    print(\"Prononcer votre Digit : \")\n",
    "    data = sd.rec(int(duration * rate), samplerate=rate, channels=1)\n",
    "    sd.wait()\n",
    "    time.sleep(1)    \n",
    "    data = data / data.max() * np.iinfo(np.int16).max\n",
    "    data = data.astype(np.int16)\n",
    "    \n",
    "    mfcc_feat = np.mean(mfcc(data,rate, numcep=12), axis=0)   \n",
    "    mfcc_feat = np.expand_dims(mfcc_feat, axis=0)\n",
    "    df = pd.DataFrame(mfcc_feat)\n",
    "    \n",
    "\n",
    "    if method=='pearson':\n",
    "        df = pd.DataFrame(mfcc_feat, columns=['Fe1', 'Fe2', 'Fe3', 'Fe4', 'Fe5', 'Fe6', 'Fe7', 'Fe8', 'Fe9', 'Fe10',\n",
    "       'Fe11', 'Fe12'])\n",
    "        df = df.drop(['Fe8', 'Fe11', 'Fe5', 'Fe4', 'Fe10', 'Fe9', 'Fe12'], axis=1)\n",
    "        mfcc_feat = np.array(df)\n",
    "        \n",
    "    if method=='chi2':\n",
    "        df = pd.DataFrame(mfcc_feat, columns=['Fe1', 'Fe2', 'Fe3', 'Fe4', 'Fe5', 'Fe6', 'Fe7', 'Fe8', 'Fe9', 'Fe10',\n",
    "       'Fe11', 'Fe12'])\n",
    "        df = df.drop(['Fe1', 'Fe4', 'Fe6', 'Fe8', 'Fe9', 'Fe11', 'Fe12'], axis=1)\n",
    "        mfcc_feat = np.array(df)\n",
    "\n",
    "    \n",
    "        \n",
    "      \n",
    "    \n",
    "    pred = classifier.predict(scaler.transform(mfcc_feat))\n",
    "    \n",
    "    \n",
    "    \n",
    "    print('------------------')\n",
    "    print('Digit : ', pred[0])\n",
    "    print('------------------')\n",
    "\n",
    "\n",
    "rec(scaler, xgb, 'none')"
   ]
  },
  {
   "cell_type": "code",
   "execution_count": null,
   "id": "d909ade1",
   "metadata": {},
   "outputs": [],
   "source": []
  },
  {
   "cell_type": "code",
   "execution_count": null,
   "id": "269338ee",
   "metadata": {},
   "outputs": [],
   "source": []
  },
  {
   "cell_type": "code",
   "execution_count": null,
   "id": "5ed9bb87",
   "metadata": {},
   "outputs": [],
   "source": []
  }
 ],
 "metadata": {
  "kernelspec": {
   "display_name": "Python 3 (ipykernel)",
   "language": "python",
   "name": "python3"
  },
  "language_info": {
   "codemirror_mode": {
    "name": "ipython",
    "version": 3
   },
   "file_extension": ".py",
   "mimetype": "text/x-python",
   "name": "python",
   "nbconvert_exporter": "python",
   "pygments_lexer": "ipython3",
   "version": "3.9.7"
  }
 },
 "nbformat": 4,
 "nbformat_minor": 5
}
